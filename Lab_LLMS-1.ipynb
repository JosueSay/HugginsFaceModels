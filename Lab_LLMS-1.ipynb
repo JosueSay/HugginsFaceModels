{
  "cells": [
    {
      "cell_type": "markdown",
      "metadata": {},
      "source": [
        "<h1 align=\"center\">Large Language Models</h1>"
      ]
    },
    {
      "cell_type": "markdown",
      "metadata": {},
      "source": [
        "## Integrantes\n",
        "\n",
        "- Josué Say\n",
        "\n",
        "## Enlaces\n",
        "\n",
        "- [Enlace de Repositorio](https://github.com/JosueSay/HugginsFaceModels)\n",
        "- [Ficha Técnica y Explicación de Modelos](https://github.com/JosueSay/HugginsFaceModels/tree/main/docs)"
      ]
    },
    {
      "cell_type": "code",
      "execution_count": 62,
      "metadata": {},
      "outputs": [],
      "source": [
        "# %!pip install -r requirements.txt"
      ]
    },
    {
      "cell_type": "markdown",
      "metadata": {},
      "source": [
        "## Librerias\n"
      ]
    },
    {
      "cell_type": "code",
      "execution_count": 63,
      "metadata": {},
      "outputs": [],
      "source": [
        "import os, time, psutil\n",
        "from dotenv import load_dotenv\n",
        "from huggingface_hub import login, whoami\n",
        "import torch\n",
        "from transformers import AutoTokenizer, AutoModelForCausalLM, pipeline\n",
        "from rich.live import Live\n",
        "from rich.table import Table\n",
        "import pandas as pd\n",
        "from transformers import TextIteratorStreamer\n",
        "from threading import Thread\n",
        "import matplotlib.pyplot as plt"
      ]
    },
    {
      "cell_type": "markdown",
      "metadata": {},
      "source": [
        "## Constantes"
      ]
    },
    {
      "cell_type": "code",
      "execution_count": 64,
      "metadata": {
        "colab": {
          "base_uri": "https://localhost:8080/"
        },
        "id": "pKRsYKldockf",
        "outputId": "11b3d806-c10a-4ef4-9047-ea5d0ad97729"
      },
      "outputs": [],
      "source": [
        "load_dotenv()\n",
        "HF_TOKEN = os.getenv(\"HF_TOKEN\", \"\")\n",
        "\n",
        "# IDs models\n",
        "MODEL_ID_TINY_LLAMA=\"TinyLlama/TinyLlama-1.1B-Chat-v1.0\"\n",
        "MODEL_ID_QWEN=\"Qwen/Qwen2.5-0.5B-Instruct\"\n",
        "MODEL_ID_DOCTOR_SHOTGUN=\"Doctor-Shotgun/TinyLlama-1.1B-32k-Instruct\"\n",
        "MODEL_ID_META_LLAMA=\"meta-llama/Llama-2-7b-hf\""
      ]
    },
    {
      "cell_type": "markdown",
      "metadata": {},
      "source": [
        "## Login y device"
      ]
    },
    {
      "cell_type": "code",
      "execution_count": 65,
      "metadata": {},
      "outputs": [],
      "source": [
        "def loginHF(hfToken: str):\n",
        "    if hfToken == \"\":\n",
        "        print(\"No se encontró HF_TOKEN en el .env. Usando valor vacío...\")\n",
        "    login(hfToken)\n",
        "    print(\"Login de HuggingFace completado.\")"
      ]
    },
    {
      "cell_type": "code",
      "execution_count": 66,
      "metadata": {},
      "outputs": [],
      "source": [
        "def getDevice() -> str:\n",
        "    if torch.cuda.is_available():\n",
        "        return \"cuda\"\n",
        "    if getattr(torch.backends, \"mps\", None) and torch.backends.mps.is_available():\n",
        "        return \"mps\"\n",
        "    return \"cpu\""
      ]
    },
    {
      "cell_type": "markdown",
      "metadata": {},
      "source": [
        "## Métricas de sistema"
      ]
    },
    {
      "cell_type": "code",
      "execution_count": 67,
      "metadata": {},
      "outputs": [],
      "source": [
        "def getSystemUsage():\n",
        "    vm = psutil.virtual_memory()\n",
        "    return {\n",
        "        \"cpu_pct\": psutil.cpu_percent(interval=None),\n",
        "        \"ram_pct\": round(vm.percent, 2),\n",
        "        \"ram_used_mb\": round((vm.total - vm.available) / (1024**2), 1),\n",
        "    }"
      ]
    },
    {
      "cell_type": "code",
      "execution_count": 68,
      "metadata": {},
      "outputs": [],
      "source": [
        "def getGpuUsage():\n",
        "    if torch.cuda.is_available():\n",
        "        idx = torch.cuda.current_device()\n",
        "        torch.cuda.synchronize()\n",
        "        alloc = torch.cuda.memory_allocated(idx) / (1024**2)\n",
        "        reserved = torch.cuda.memory_reserved(idx) / (1024**2)\n",
        "        return {\n",
        "            \"gpu\": torch.cuda.get_device_name(idx),\n",
        "            \"vram_alloc_mb\": round(alloc, 1),\n",
        "            \"vram_reserved_mb\": round(reserved, 1),\n",
        "        }\n",
        "    return {\"gpu\": \"none\", \"vram_alloc_mb\": 0.0, \"vram_reserved_mb\": 0.0}"
      ]
    },
    {
      "cell_type": "markdown",
      "metadata": {},
      "source": [
        "## Formateadores de prompts"
      ]
    },
    {
      "cell_type": "code",
      "execution_count": 69,
      "metadata": {},
      "outputs": [],
      "source": [
        "def fmtTinyLlama(msg, system=\"You are a helpful assistant.\"):\n",
        "    # Se usa chat template si el modelo lo tiene\n",
        "    return [\n",
        "        {\"role\": \"system\", \"content\": system},\n",
        "        {\"role\": \"user\", \"content\": msg},\n",
        "    ]"
      ]
    },
    {
      "cell_type": "code",
      "execution_count": 70,
      "metadata": {},
      "outputs": [],
      "source": [
        "def fmtQwen(msg, system=\"You are Qwen, a helpful assistant.\"):\n",
        "    return [\n",
        "        {\"role\": \"system\", \"content\": system},\n",
        "        {\"role\": \"user\", \"content\": msg},\n",
        "    ]"
      ]
    },
    {
      "cell_type": "code",
      "execution_count": 71,
      "metadata": {},
      "outputs": [],
      "source": [
        "def fmtDoctorShotgun(msg, system=\"Follow the instruction.\"):\n",
        "    # Formato Alpaca modificado de la card\n",
        "    return f\"\"\"### Instruction:\n",
        "                {system}\n",
        "\n",
        "                ### Input:\n",
        "                {msg}\n",
        "\n",
        "                ### Response:\n",
        "            \"\"\""
      ]
    },
    {
      "cell_type": "code",
      "execution_count": 72,
      "metadata": {},
      "outputs": [],
      "source": [
        "def fmtLlama2(msg):  # pretrained (no chat)\n",
        "    return msg"
      ]
    },
    {
      "cell_type": "markdown",
      "metadata": {},
      "source": [
        "## Presets por modelo"
      ]
    },
    {
      "cell_type": "code",
      "execution_count": 73,
      "metadata": {},
      "outputs": [],
      "source": [
        "MODEL_PRESETS = {\n",
        "    MODEL_ID_TINY_LLAMA: {\n",
        "        \"gen_kwargs\": dict(\n",
        "            max_new_tokens=256, temperature=0.7, top_p=0.95, top_k=50,\n",
        "            repetition_penalty=1.1, do_sample=True\n",
        "        ),\n",
        "        \"prompt_fmt\": fmtTinyLlama,\n",
        "        \"use_chat_template\": True\n",
        "    },\n",
        "    MODEL_ID_QWEN: {\n",
        "        \"gen_kwargs\": dict(\n",
        "            max_new_tokens=512, temperature=0.7, top_p=0.9, top_k=40,\n",
        "            repetition_penalty=1.05, do_sample=True\n",
        "        ),\n",
        "        \"prompt_fmt\": fmtQwen,\n",
        "        \"use_chat_template\": True\n",
        "    },\n",
        "    MODEL_ID_DOCTOR_SHOTGUN: {\n",
        "        \"gen_kwargs\": dict(\n",
        "            max_new_tokens=300, temperature=0.7, top_p=0.9, top_k=40,\n",
        "            repetition_penalty=1.05, do_sample=True\n",
        "        ),\n",
        "        \"prompt_fmt\": fmtDoctorShotgun,\n",
        "        \"use_chat_template\": False\n",
        "    },\n",
        "    MODEL_ID_META_LLAMA: {\n",
        "        \"gen_kwargs\": dict(\n",
        "            max_new_tokens=200, temperature=0.7, top_p=0.9, top_k=40,\n",
        "            repetition_penalty=1.1, do_sample=True\n",
        "        ),\n",
        "        \"prompt_fmt\": fmtLlama2,\n",
        "        \"use_chat_template\": False\n",
        "    },\n",
        "}"
      ]
    },
    {
      "cell_type": "markdown",
      "metadata": {},
      "source": [
        "## Cargar modelo y tokenizer"
      ]
    },
    {
      "cell_type": "code",
      "execution_count": 74,
      "metadata": {},
      "outputs": [],
      "source": [
        "def loadModel(modelId, use4bit=False, dtype=None):\n",
        "    device = getDevice()\n",
        "    if dtype is None:\n",
        "        dtype = torch.bfloat16 if (torch.cuda.is_available() and torch.cuda.is_bf16_supported()) else torch.float16\n",
        "\n",
        "    tokenizer = AutoTokenizer.from_pretrained(modelId, use_fast=True)\n",
        "\n",
        "    if use4bit:\n",
        "        model = AutoModelForCausalLM.from_pretrained(modelId, device_map=\"auto\", load_in_4bit=True)\n",
        "    else:\n",
        "        model = AutoModelForCausalLM.from_pretrained(modelId, torch_dtype=dtype, device_map=\"auto\")\n",
        "\n",
        "    gen = pipeline(\"text-generation\", model=model, tokenizer=tokenizer, return_full_text=False)\n",
        "    print(f\"Modelo '{modelId}' cargado en {device}.\")\n",
        "    return gen, tokenizer"
      ]
    },
    {
      "cell_type": "markdown",
      "metadata": {},
      "source": [
        "## Construcción de prompt"
      ]
    },
    {
      "cell_type": "code",
      "execution_count": 75,
      "metadata": {},
      "outputs": [],
      "source": [
        "def buildPrompt(modelId, userText, systemText=None, tokenizer=None):\n",
        "    preset = MODEL_PRESETS[modelId]\n",
        "    fmt = preset[\"prompt_fmt\"]\n",
        "    payload = fmt(userText, systemText) if systemText is not None else fmt(userText)\n",
        "    if preset.get(\"use_chat_template\", False):\n",
        "        return tokenizer.apply_chat_template(payload, tokenize=False, add_generation_prompt=True)\n",
        "    return payload"
      ]
    },
    {
      "cell_type": "markdown",
      "metadata": {},
      "source": [
        "## Inferencia"
      ]
    },
    {
      "cell_type": "code",
      "execution_count": 76,
      "metadata": {},
      "outputs": [],
      "source": [
        "def runInferenceBatch(modelId, userText, systemText=None, overrideGenKwargs=None, use4bit=False):\n",
        "    gen, tok = loadModel(modelId, use4bit=use4bit)\n",
        "    prompt = buildPrompt(modelId, userText, systemText, tokenizer=tok)\n",
        "\n",
        "    genKwargs = MODEL_PRESETS[modelId][\"gen_kwargs\"].copy()\n",
        "    if overrideGenKwargs:\n",
        "        genKwargs.update(overrideGenKwargs)\n",
        "\n",
        "    sys_before = getSystemUsage()\n",
        "    gpu_before = getGpuUsage()\n",
        "    t0 = time.time()\n",
        "    out = gen(prompt, **genKwargs)\n",
        "    t1 = time.time()\n",
        "    sys_after = getSystemUsage()\n",
        "    gpu_after = getGpuUsage()\n",
        "\n",
        "    text = out[0][\"generated_text\"]\n",
        "    input_tokens  = len(tok(prompt).input_ids)\n",
        "    output_tokens = len(tok(text).input_ids)\n",
        "    elapsed = round(t1 - t0, 3)\n",
        "\n",
        "    metrics = {\n",
        "        \"modelo\": modelId,\n",
        "        \"input_tokens\": input_tokens,\n",
        "        \"output_tokens\": output_tokens,\n",
        "        \"tiempo_seg\": elapsed,\n",
        "        \"tok_s\": round(output_tokens / max(elapsed, 1e-6), 2),\n",
        "        \"temperature\": genKwargs.get(\"temperature\"),\n",
        "        \"max_new_tokens\": genKwargs.get(\"max_new_tokens\"),\n",
        "        \"top_p\": genKwargs.get(\"top_p\"),\n",
        "        \"top_k\": genKwargs.get(\"top_k\"),\n",
        "        \"repetition_penalty\": genKwargs.get(\"repetition_penalty\"),\n",
        "        \"cpu_before\": sys_before[\"cpu_pct\"], \"cpu_after\": sys_after[\"cpu_pct\"],\n",
        "        \"ram_before_pct\": sys_before[\"ram_pct\"], \"ram_after_pct\": sys_after[\"ram_pct\"],\n",
        "        \"vram_before_mb\": gpu_before[\"vram_alloc_mb\"], \"vram_after_mb\": gpu_after[\"vram_alloc_mb\"]\n",
        "    }\n",
        "    return text, metrics"
      ]
    },
    {
      "cell_type": "markdown",
      "metadata": {},
      "source": [
        "## Inferencia con streaming"
      ]
    },
    {
      "cell_type": "code",
      "execution_count": 77,
      "metadata": {},
      "outputs": [],
      "source": [
        "def makeLiveTable():\n",
        "    table = Table(title=\"Inferencia (en vivo)\", expand=True)\n",
        "    table.add_column(\"Modelo\")\n",
        "    table.add_column(\"Tokens out\")\n",
        "    table.add_column(\"t (s)\")\n",
        "    table.add_column(\"tok/s\")\n",
        "    table.add_column(\"CPU %\")\n",
        "    table.add_column(\"RAM %\")\n",
        "    table.add_column(\"VRAM MB\")\n",
        "    return table"
      ]
    },
    {
      "cell_type": "code",
      "execution_count": 78,
      "metadata": {},
      "outputs": [],
      "source": [
        "def runInferenceStreaming(modelId, userText, systemText=None, overrideGenKwargs=None, use4bit=False, csvPath=None):\n",
        "    gen, tok = loadModel(modelId, use4bit=use4bit)\n",
        "    prompt = buildPrompt(modelId, userText, systemText, tokenizer=tok)\n",
        "\n",
        "    genKwargs = MODEL_PRESETS[modelId][\"gen_kwargs\"].copy()\n",
        "    if overrideGenKwargs:\n",
        "        genKwargs.update(overrideGenKwargs)\n",
        "\n",
        "    inputs = tok(prompt, return_tensors=\"pt\").to(gen.model.device)\n",
        "\n",
        "    sys_before = getSystemUsage()\n",
        "    gpu_before = getGpuUsage()\n",
        "    t0 = time.time()\n",
        "\n",
        "    streamer = TextIteratorStreamer(tok, skip_special_tokens=True, skip_prompt=True)\n",
        "\n",
        "    def _worker():\n",
        "        gen.model.generate(\n",
        "            **inputs,\n",
        "            streamer=streamer,\n",
        "            do_sample=genKwargs.get(\"do_sample\", True),\n",
        "            max_new_tokens=genKwargs.get(\"max_new_tokens\", 200),\n",
        "            temperature=genKwargs.get(\"temperature\", 0.7),\n",
        "            top_p=genKwargs.get(\"top_p\", 0.9),\n",
        "            top_k=genKwargs.get(\"top_k\", 40),\n",
        "            repetition_penalty=genKwargs.get(\"repetition_penalty\", 1.0),\n",
        "        )\n",
        "\n",
        "    thread = Thread(target=_worker)\n",
        "    thread.start()\n",
        "\n",
        "    tokens_collected = []\n",
        "    table = makeLiveTable()\n",
        "    with Live(table, refresh_per_second=4):\n",
        "        partial = \"\"\n",
        "        while True:\n",
        "            try:\n",
        "                token = next(streamer)\n",
        "                partial += token\n",
        "                tokens_collected.append(token)\n",
        "            except StopIteration:\n",
        "                break\n",
        "\n",
        "            elapsed = max(time.time() - t0, 1e-6)\n",
        "            out_tok = len(tok(partial).input_ids)\n",
        "            sys_now = getSystemUsage()\n",
        "            gpu_now = getGpuUsage()\n",
        "\n",
        "            table.rows = []\n",
        "            table.add_row(\n",
        "                modelId,\n",
        "                str(out_tok),\n",
        "                f\"{elapsed:.2f}\",\n",
        "                f\"{out_tok/elapsed:.2f}\",\n",
        "                f\"{sys_now['cpu_pct']:.0f}\",\n",
        "                f\"{sys_now['ram_pct']:.1f}\",\n",
        "                f\"{gpu_now['vram_alloc_mb']:.0f}\"\n",
        "            )\n",
        "\n",
        "    thread.join()\n",
        "    t1 = time.time()\n",
        "\n",
        "    text = partial\n",
        "    input_tokens  = len(inputs.input_ids[0])\n",
        "    output_tokens = len(tok(text).input_ids)\n",
        "    elapsed = round(t1 - t0, 3)\n",
        "    sys_after = getSystemUsage()\n",
        "    gpu_after = getGpuUsage()\n",
        "\n",
        "    metrics = {\n",
        "        \"modelo\": modelId,\n",
        "        \"input_tokens\": input_tokens,\n",
        "        \"output_tokens\": output_tokens,\n",
        "        \"tiempo_seg\": elapsed,\n",
        "        \"tok_s\": round(output_tokens / max(elapsed, 1e-6), 2),\n",
        "        \"temperature\": genKwargs.get(\"temperature\"),\n",
        "        \"max_new_tokens\": genKwargs.get(\"max_new_tokens\"),\n",
        "        \"top_p\": genKwargs.get(\"top_p\"),\n",
        "        \"top_k\": genKwargs.get(\"top_k\"),\n",
        "        \"repetition_penalty\": genKwargs.get(\"repetition_penalty\"),\n",
        "        \"cpu_before\": sys_before[\"cpu_pct\"], \"cpu_after\": sys_after[\"cpu_pct\"],\n",
        "        \"ram_before_pct\": sys_before[\"ram_pct\"], \"ram_after_pct\": sys_after[\"ram_pct\"],\n",
        "        \"vram_before_mb\": gpu_before[\"vram_alloc_mb\"], \"vram_after_mb\": gpu_after[\"vram_alloc_mb\"]\n",
        "    }\n",
        "\n",
        "    if csvPath:\n",
        "        df = pd.DataFrame([metrics])\n",
        "        df.to_csv(csvPath, mode=\"a\", index=False, header=not os.path.exists(csvPath))\n",
        "\n",
        "    return text, metrics"
      ]
    },
    {
      "cell_type": "markdown",
      "metadata": {},
      "source": [
        "## Esportación csv"
      ]
    },
    {
      "cell_type": "code",
      "execution_count": 79,
      "metadata": {},
      "outputs": [],
      "source": [
        "def benchmarkModels(models, prompt, systemText=None, runs=1, use4bit=True, csvPath=\"metrics.csv\", override=None):\n",
        "    rows = []\n",
        "    for modelId in models:\n",
        "        for i in range(runs):\n",
        "            print(f\"\\n=== {modelId} | run {i+1}/{runs} ===\")\n",
        "            text, m = runInferenceStreaming(\n",
        "                modelId, prompt, systemText=systemText,\n",
        "                overrideGenKwargs=override, use4bit=use4bit, csvPath=csvPath\n",
        "            )\n",
        "            m[\"run\"] = i+1\n",
        "            rows.append(m)\n",
        "    return pd.DataFrame(rows)"
      ]
    },
    {
      "cell_type": "markdown",
      "metadata": {},
      "source": [
        "## Lectura de csv"
      ]
    },
    {
      "cell_type": "code",
      "execution_count": 80,
      "metadata": {},
      "outputs": [],
      "source": [
        "def loadResults(csvPath=\"metrics.csv\"):\n",
        "    return pd.read_csv(csvPath) if os.path.exists(csvPath) else pd.DataFrame()"
      ]
    },
    {
      "cell_type": "code",
      "execution_count": 81,
      "metadata": {},
      "outputs": [],
      "source": [
        "def plotQuick(df):\n",
        "    if df.empty:\n",
        "        print(\"No hay datos para graficar.\")\n",
        "        return\n",
        "    # tiempo\n",
        "    plt.figure()\n",
        "    df.groupby(\"modelo\")[\"tiempo_seg\"].mean().plot(kind=\"bar\")\n",
        "    plt.title(\"Tiempo promedio por modelo (s)\")\n",
        "    plt.ylabel(\"segundos\")\n",
        "    plt.show()\n",
        "    # tok/s\n",
        "    plt.figure()\n",
        "    df.groupby(\"modelo\")[\"tok_s\"].mean().plot(kind=\"bar\")\n",
        "    plt.title(\"Velocidad promedio (tok/s)\")\n",
        "    plt.ylabel(\"tokens/segundo\")\n",
        "    plt.show()"
      ]
    },
    {
      "cell_type": "markdown",
      "metadata": {},
      "source": [
        "## Pipeline"
      ]
    },
    {
      "cell_type": "code",
      "execution_count": 82,
      "metadata": {},
      "outputs": [
        {
          "name": "stderr",
          "output_type": "stream",
          "text": [
            "Note: Environment variable`HF_TOKEN` is set and is the current active token independently from the token you've just configured.\n"
          ]
        },
        {
          "name": "stdout",
          "output_type": "stream",
          "text": [
            "Login de HuggingFace completado.\n"
          ]
        }
      ],
      "source": [
        "loginHF(hfToken=HF_TOKEN)\n",
        "prompt = \"Explain what a transformer model is in simple terms.\""
      ]
    },
    {
      "cell_type": "code",
      "execution_count": 83,
      "metadata": {},
      "outputs": [],
      "source": [
        "models = [\n",
        "    MODEL_ID_TINY_LLAMA,\n",
        "    MODEL_ID_QWEN,\n",
        "    MODEL_ID_DOCTOR_SHOTGUN\n",
        "]\n",
        "CSV_PATH = \"metrics_lab_models.csv\""
      ]
    },
    {
      "cell_type": "markdown",
      "metadata": {},
      "source": [
        "### Tiny llama"
      ]
    },
    {
      "cell_type": "code",
      "execution_count": 84,
      "metadata": {},
      "outputs": [
        {
          "data": {
            "application/vnd.jupyter.widget-view+json": {
              "model_id": "05aff1c2ecc84d19ad8bab310ea396ae",
              "version_major": 2,
              "version_minor": 0
            },
            "text/plain": [
              "tokenizer_config.json: 0.00B [00:00, ?B/s]"
            ]
          },
          "metadata": {},
          "output_type": "display_data"
        },
        {
          "name": "stderr",
          "output_type": "stream",
          "text": [
            "d:\\repositorios\\UVG\\2025\\HugginsFaceModels\\.venv\\Lib\\site-packages\\huggingface_hub\\file_download.py:143: UserWarning: `huggingface_hub` cache-system uses symlinks by default to efficiently store duplicated files but your machine does not support them in C:\\Users\\josue\\.cache\\huggingface\\hub\\models--TinyLlama--TinyLlama-1.1B-Chat-v1.0. Caching files will still work but in a degraded version that might require more space on your disk. This warning can be disabled by setting the `HF_HUB_DISABLE_SYMLINKS_WARNING` environment variable. For more details, see https://huggingface.co/docs/huggingface_hub/how-to-cache#limitations.\n",
            "To support symlinks on Windows, you either need to activate Developer Mode or to run Python as an administrator. In order to activate developer mode, see this article: https://docs.microsoft.com/en-us/windows/apps/get-started/enable-your-device-for-development\n",
            "  warnings.warn(message)\n",
            "Xet Storage is enabled for this repo, but the 'hf_xet' package is not installed. Falling back to regular HTTP download. For better performance, install the package with: `pip install huggingface_hub[hf_xet]` or `pip install hf_xet`\n"
          ]
        },
        {
          "data": {
            "application/vnd.jupyter.widget-view+json": {
              "model_id": "b8b09702c36942abb533814638d1783b",
              "version_major": 2,
              "version_minor": 0
            },
            "text/plain": [
              "tokenizer.model:   0%|          | 0.00/500k [00:00<?, ?B/s]"
            ]
          },
          "metadata": {},
          "output_type": "display_data"
        },
        {
          "data": {
            "application/vnd.jupyter.widget-view+json": {
              "model_id": "6f76473c12e344c099336d8e6400b666",
              "version_major": 2,
              "version_minor": 0
            },
            "text/plain": [
              "tokenizer.json: 0.00B [00:00, ?B/s]"
            ]
          },
          "metadata": {},
          "output_type": "display_data"
        },
        {
          "data": {
            "application/vnd.jupyter.widget-view+json": {
              "model_id": "38a71758065a443ca0330f1c5b3ad9b1",
              "version_major": 2,
              "version_minor": 0
            },
            "text/plain": [
              "special_tokens_map.json:   0%|          | 0.00/551 [00:00<?, ?B/s]"
            ]
          },
          "metadata": {},
          "output_type": "display_data"
        },
        {
          "data": {
            "application/vnd.jupyter.widget-view+json": {
              "model_id": "3b2caa9f090f45018399e16d188f4037",
              "version_major": 2,
              "version_minor": 0
            },
            "text/plain": [
              "config.json:   0%|          | 0.00/608 [00:00<?, ?B/s]"
            ]
          },
          "metadata": {},
          "output_type": "display_data"
        },
        {
          "name": "stderr",
          "output_type": "stream",
          "text": [
            "The `load_in_4bit` and `load_in_8bit` arguments are deprecated and will be removed in the future versions. Please, pass a `BitsAndBytesConfig` object in `quantization_config` argument instead.\n",
            "Xet Storage is enabled for this repo, but the 'hf_xet' package is not installed. Falling back to regular HTTP download. For better performance, install the package with: `pip install huggingface_hub[hf_xet]` or `pip install hf_xet`\n"
          ]
        },
        {
          "data": {
            "application/vnd.jupyter.widget-view+json": {
              "model_id": "4ca30e135ba343e799bacdb1948a5e2c",
              "version_major": 2,
              "version_minor": 0
            },
            "text/plain": [
              "model.safetensors:   0%|          | 0.00/2.20G [00:00<?, ?B/s]"
            ]
          },
          "metadata": {},
          "output_type": "display_data"
        },
        {
          "data": {
            "application/vnd.jupyter.widget-view+json": {
              "model_id": "543d29ef3fdc4b829101b4f7cbd1ee7c",
              "version_major": 2,
              "version_minor": 0
            },
            "text/plain": [
              "generation_config.json:   0%|          | 0.00/124 [00:00<?, ?B/s]"
            ]
          },
          "metadata": {},
          "output_type": "display_data"
        },
        {
          "name": "stderr",
          "output_type": "stream",
          "text": [
            "Device set to use cpu\n"
          ]
        },
        {
          "data": {
            "application/vnd.jupyter.widget-view+json": {
              "model_id": "1c9fad8422dd4244be52e5877118c5f4",
              "version_major": 2,
              "version_minor": 0
            },
            "text/plain": [
              "Output()"
            ]
          },
          "metadata": {},
          "output_type": "display_data"
        },
        {
          "name": "stdout",
          "output_type": "stream",
          "text": [
            "Modelo 'TinyLlama/TinyLlama-1.1B-Chat-v1.0' cargado en cpu.\n"
          ]
        },
        {
          "data": {
            "text/html": [
              "<pre style=\"white-space:pre;overflow-x:auto;line-height:normal;font-family:Menlo,'DejaVu Sans Mono',consolas,'Courier New',monospace\"></pre>\n"
            ],
            "text/plain": []
          },
          "metadata": {},
          "output_type": "display_data"
        },
        {
          "name": "stdout",
          "output_type": "stream",
          "text": [
            "\n",
            "TinyLlama métricas: {'modelo': 'TinyLlama/TinyLlama-1.1B-Chat-v1.0', 'input_tokens': 44, 'output_tokens': 180, 'tiempo_seg': 194.688, 'tok_s': 0.92, 'temperature': 0.7, 'max_new_tokens': 256, 'top_p': 0.95, 'top_k': 50, 'repetition_penalty': 1.1, 'cpu_before': 17.4, 'cpu_after': 0.0, 'ram_before_pct': 54.0, 'ram_after_pct': 54.3, 'vram_before_mb': 0.0, 'vram_after_mb': 0.0}\n",
            "A transformer model is an artificial neural network (ANN) that has been modified to perform sequence-to-sequence translation tasks, such as natural language processing (NLP) and machine translation. It works by processing inputs in sequence format and generating outputs based on the logic of the input sequence. The transformers' architecture is divided into two parts: the encoder and the decoder. The encoder encodes each input sequence into a sequence of hidden states, while the decoder uses the\n"
          ]
        }
      ],
      "source": [
        "text_tiny, metrics_tiny = runInferenceStreaming(\n",
        "    MODEL_ID_TINY_LLAMA,\n",
        "    userText=prompt,\n",
        "    systemText=\"You are a helpful assistant.\",\n",
        "    use4bit=True,\n",
        "    csvPath=CSV_PATH\n",
        ")\n",
        "print(\"\\nTinyLlama métricas:\", metrics_tiny)\n",
        "print(text_tiny[:500])"
      ]
    },
    {
      "cell_type": "markdown",
      "metadata": {},
      "source": [
        "### Qwen"
      ]
    },
    {
      "cell_type": "code",
      "execution_count": 85,
      "metadata": {},
      "outputs": [
        {
          "name": "stderr",
          "output_type": "stream",
          "text": [
            "The `load_in_4bit` and `load_in_8bit` arguments are deprecated and will be removed in the future versions. Please, pass a `BitsAndBytesConfig` object in `quantization_config` argument instead.\n",
            "Device set to use cpu\n"
          ]
        },
        {
          "data": {
            "application/vnd.jupyter.widget-view+json": {
              "model_id": "9db1dd52388f41fcb965737b9425795f",
              "version_major": 2,
              "version_minor": 0
            },
            "text/plain": [
              "Output()"
            ]
          },
          "metadata": {},
          "output_type": "display_data"
        },
        {
          "name": "stdout",
          "output_type": "stream",
          "text": [
            "Modelo 'Qwen/Qwen2.5-0.5B-Instruct' cargado en cpu.\n"
          ]
        },
        {
          "data": {
            "text/html": [
              "<pre style=\"white-space:pre;overflow-x:auto;line-height:normal;font-family:Menlo,'DejaVu Sans Mono',consolas,'Courier New',monospace\"></pre>\n"
            ],
            "text/plain": []
          },
          "metadata": {},
          "output_type": "display_data"
        },
        {
          "name": "stdout",
          "output_type": "stream",
          "text": [
            "\n",
            "Qwen métricas: {'modelo': 'Qwen/Qwen2.5-0.5B-Instruct', 'input_tokens': 40, 'output_tokens': 212, 'tiempo_seg': 89.175, 'tok_s': 2.38, 'temperature': 0.7, 'max_new_tokens': 512, 'top_p': 0.9, 'top_k': 40, 'repetition_penalty': 1.05, 'cpu_before': 67.0, 'cpu_after': 0.0, 'ram_before_pct': 52.4, 'ram_after_pct': 52.5, 'vram_before_mb': 0.0, 'vram_after_mb': 0.0}\n",
            "A transformer model is a type of neural network architecture that was designed to improve the performance of language models like self-attention and language models. It is based on the idea of parallelization, which allows the transformer model to take advantage of the parallel processing power of a single computer to improve the overall performance of the model.\n",
            "In simple terms, a transformer model is like a \"streaming\" model that takes input from a sequence of characters or words and produces \n"
          ]
        }
      ],
      "source": [
        "text_qwen, metrics_qwen = runInferenceStreaming(\n",
        "    MODEL_ID_QWEN,\n",
        "    userText=prompt,\n",
        "    systemText=\"You are Qwen, created by Alibaba Cloud. You are a helpful assistant.\",\n",
        "    use4bit=True,\n",
        "    csvPath=CSV_PATH\n",
        ")\n",
        "print(\"\\nQwen métricas:\", metrics_qwen)\n",
        "print(text_qwen[:500])"
      ]
    },
    {
      "cell_type": "markdown",
      "metadata": {},
      "source": [
        "### Doctor-Shotgun"
      ]
    },
    {
      "cell_type": "code",
      "execution_count": 86,
      "metadata": {},
      "outputs": [
        {
          "data": {
            "application/vnd.jupyter.widget-view+json": {
              "model_id": "2e2361e7775f40fc99e1b73dd5cde592",
              "version_major": 2,
              "version_minor": 0
            },
            "text/plain": [
              "tokenizer_config.json: 0.00B [00:00, ?B/s]"
            ]
          },
          "metadata": {},
          "output_type": "display_data"
        },
        {
          "name": "stderr",
          "output_type": "stream",
          "text": [
            "d:\\repositorios\\UVG\\2025\\HugginsFaceModels\\.venv\\Lib\\site-packages\\huggingface_hub\\file_download.py:143: UserWarning: `huggingface_hub` cache-system uses symlinks by default to efficiently store duplicated files but your machine does not support them in C:\\Users\\josue\\.cache\\huggingface\\hub\\models--Doctor-Shotgun--TinyLlama-1.1B-32k-Instruct. Caching files will still work but in a degraded version that might require more space on your disk. This warning can be disabled by setting the `HF_HUB_DISABLE_SYMLINKS_WARNING` environment variable. For more details, see https://huggingface.co/docs/huggingface_hub/how-to-cache#limitations.\n",
            "To support symlinks on Windows, you either need to activate Developer Mode or to run Python as an administrator. In order to activate developer mode, see this article: https://docs.microsoft.com/en-us/windows/apps/get-started/enable-your-device-for-development\n",
            "  warnings.warn(message)\n",
            "Xet Storage is enabled for this repo, but the 'hf_xet' package is not installed. Falling back to regular HTTP download. For better performance, install the package with: `pip install huggingface_hub[hf_xet]` or `pip install hf_xet`\n"
          ]
        },
        {
          "data": {
            "application/vnd.jupyter.widget-view+json": {
              "model_id": "07e820bbe5f44ac384a42ef44683cdac",
              "version_major": 2,
              "version_minor": 0
            },
            "text/plain": [
              "tokenizer.model:   0%|          | 0.00/500k [00:00<?, ?B/s]"
            ]
          },
          "metadata": {},
          "output_type": "display_data"
        },
        {
          "data": {
            "application/vnd.jupyter.widget-view+json": {
              "model_id": "400c8f731ba24907ad4f21abc787ef73",
              "version_major": 2,
              "version_minor": 0
            },
            "text/plain": [
              "tokenizer.json: 0.00B [00:00, ?B/s]"
            ]
          },
          "metadata": {},
          "output_type": "display_data"
        },
        {
          "data": {
            "application/vnd.jupyter.widget-view+json": {
              "model_id": "7d26f350bbc34eaa811c18ba46226131",
              "version_major": 2,
              "version_minor": 0
            },
            "text/plain": [
              "special_tokens_map.json:   0%|          | 0.00/551 [00:00<?, ?B/s]"
            ]
          },
          "metadata": {},
          "output_type": "display_data"
        },
        {
          "data": {
            "application/vnd.jupyter.widget-view+json": {
              "model_id": "4bd9f51cc23d4723ba312690cf35d945",
              "version_major": 2,
              "version_minor": 0
            },
            "text/plain": [
              "config.json:   0%|          | 0.00/695 [00:00<?, ?B/s]"
            ]
          },
          "metadata": {},
          "output_type": "display_data"
        },
        {
          "name": "stderr",
          "output_type": "stream",
          "text": [
            "The `load_in_4bit` and `load_in_8bit` arguments are deprecated and will be removed in the future versions. Please, pass a `BitsAndBytesConfig` object in `quantization_config` argument instead.\n",
            "Xet Storage is enabled for this repo, but the 'hf_xet' package is not installed. Falling back to regular HTTP download. For better performance, install the package with: `pip install huggingface_hub[hf_xet]` or `pip install hf_xet`\n"
          ]
        },
        {
          "data": {
            "application/vnd.jupyter.widget-view+json": {
              "model_id": "64bb1c9fd9f244c89118c2ecb59c9578",
              "version_major": 2,
              "version_minor": 0
            },
            "text/plain": [
              "model.safetensors:   0%|          | 0.00/2.20G [00:00<?, ?B/s]"
            ]
          },
          "metadata": {},
          "output_type": "display_data"
        },
        {
          "data": {
            "application/vnd.jupyter.widget-view+json": {
              "model_id": "abafb92ccf464f85b0712e5bb703e2af",
              "version_major": 2,
              "version_minor": 0
            },
            "text/plain": [
              "generation_config.json:   0%|          | 0.00/129 [00:00<?, ?B/s]"
            ]
          },
          "metadata": {},
          "output_type": "display_data"
        },
        {
          "name": "stderr",
          "output_type": "stream",
          "text": [
            "Device set to use cpu\n"
          ]
        },
        {
          "data": {
            "application/vnd.jupyter.widget-view+json": {
              "model_id": "017b71e628254c3d93a3236b2ecd9ee7",
              "version_major": 2,
              "version_minor": 0
            },
            "text/plain": [
              "Output()"
            ]
          },
          "metadata": {},
          "output_type": "display_data"
        },
        {
          "name": "stdout",
          "output_type": "stream",
          "text": [
            "Modelo 'Doctor-Shotgun/TinyLlama-1.1B-32k-Instruct' cargado en cpu.\n"
          ]
        },
        {
          "data": {
            "text/html": [
              "<pre style=\"white-space:pre;overflow-x:auto;line-height:normal;font-family:Menlo,'DejaVu Sans Mono',consolas,'Courier New',monospace\"></pre>\n"
            ],
            "text/plain": []
          },
          "metadata": {},
          "output_type": "display_data"
        },
        {
          "name": "stdout",
          "output_type": "stream",
          "text": [
            "\n",
            "Doctor-Shotgun métricas: {'modelo': 'Doctor-Shotgun/TinyLlama-1.1B-32k-Instruct', 'input_tokens': 40, 'output_tokens': 302, 'tiempo_seg': 320.583, 'tok_s': 0.94, 'temperature': 0.7, 'max_new_tokens': 300, 'top_p': 0.9, 'top_k': 40, 'repetition_penalty': 1.05, 'cpu_before': 35.5, 'cpu_after': 0.0, 'ram_before_pct': 55.9, 'ram_after_pct': 54.7, 'vram_before_mb': 0.0, 'vram_after_mb': 0.0}\n",
            "\n",
            "A Transformer is an encoder-decoder architecture that is used to process and generate text data. It has the following characteristics:\n",
            "\n",
            "1. Encoder: The encoder takes a sequence of input tokens (text) and generates a sequence of intermediate representations (hidden states). This process is often referred to as the encoder-decoder model.\n",
            "\n",
            "2. Decoder: The decoder takes the intermediate representations generated by the encoder and generates new tokens, one at a time. This process is often referred \n"
          ]
        }
      ],
      "source": [
        "text_doc, metrics_doc = runInferenceStreaming(\n",
        "    MODEL_ID_DOCTOR_SHOTGUN,\n",
        "    userText=prompt,\n",
        "    systemText=\"Follow the instruction carefully.\",\n",
        "    use4bit=True,\n",
        "    csvPath=CSV_PATH\n",
        ")\n",
        "print(\"\\nDoctor-Shotgun métricas:\", metrics_doc)\n",
        "print(text_doc[:500])"
      ]
    },
    {
      "cell_type": "markdown",
      "metadata": {},
      "source": [
        "## Benchmark secuencial"
      ]
    },
    {
      "cell_type": "code",
      "execution_count": 87,
      "metadata": {},
      "outputs": [
        {
          "name": "stdout",
          "output_type": "stream",
          "text": [
            "\n",
            "=== TinyLlama/TinyLlama-1.1B-Chat-v1.0 | run 1/1 ===\n"
          ]
        },
        {
          "name": "stderr",
          "output_type": "stream",
          "text": [
            "The `load_in_4bit` and `load_in_8bit` arguments are deprecated and will be removed in the future versions. Please, pass a `BitsAndBytesConfig` object in `quantization_config` argument instead.\n",
            "Device set to use cpu\n"
          ]
        },
        {
          "data": {
            "application/vnd.jupyter.widget-view+json": {
              "model_id": "01e4301a101543bf8e67cdeba8f6e782",
              "version_major": 2,
              "version_minor": 0
            },
            "text/plain": [
              "Output()"
            ]
          },
          "metadata": {},
          "output_type": "display_data"
        },
        {
          "name": "stdout",
          "output_type": "stream",
          "text": [
            "Modelo 'TinyLlama/TinyLlama-1.1B-Chat-v1.0' cargado en cpu.\n"
          ]
        },
        {
          "data": {
            "text/html": [
              "<pre style=\"white-space:pre;overflow-x:auto;line-height:normal;font-family:Menlo,'DejaVu Sans Mono',consolas,'Courier New',monospace\"></pre>\n"
            ],
            "text/plain": []
          },
          "metadata": {},
          "output_type": "display_data"
        },
        {
          "name": "stdout",
          "output_type": "stream",
          "text": [
            "\n",
            "=== Qwen/Qwen2.5-0.5B-Instruct | run 1/1 ===\n"
          ]
        },
        {
          "name": "stderr",
          "output_type": "stream",
          "text": [
            "The `load_in_4bit` and `load_in_8bit` arguments are deprecated and will be removed in the future versions. Please, pass a `BitsAndBytesConfig` object in `quantization_config` argument instead.\n",
            "Device set to use cpu\n"
          ]
        },
        {
          "data": {
            "application/vnd.jupyter.widget-view+json": {
              "model_id": "f39e0a7411d743f8ae7ae7d4b6366478",
              "version_major": 2,
              "version_minor": 0
            },
            "text/plain": [
              "Output()"
            ]
          },
          "metadata": {},
          "output_type": "display_data"
        },
        {
          "name": "stdout",
          "output_type": "stream",
          "text": [
            "Modelo 'Qwen/Qwen2.5-0.5B-Instruct' cargado en cpu.\n"
          ]
        },
        {
          "data": {
            "text/html": [
              "<pre style=\"white-space:pre;overflow-x:auto;line-height:normal;font-family:Menlo,'DejaVu Sans Mono',consolas,'Courier New',monospace\"></pre>\n"
            ],
            "text/plain": []
          },
          "metadata": {},
          "output_type": "display_data"
        },
        {
          "name": "stdout",
          "output_type": "stream",
          "text": [
            "\n",
            "=== Doctor-Shotgun/TinyLlama-1.1B-32k-Instruct | run 1/1 ===\n"
          ]
        },
        {
          "name": "stderr",
          "output_type": "stream",
          "text": [
            "The `load_in_4bit` and `load_in_8bit` arguments are deprecated and will be removed in the future versions. Please, pass a `BitsAndBytesConfig` object in `quantization_config` argument instead.\n",
            "Device set to use cpu\n"
          ]
        },
        {
          "data": {
            "application/vnd.jupyter.widget-view+json": {
              "model_id": "fc2f453f8e4a4be19234c184576ff114",
              "version_major": 2,
              "version_minor": 0
            },
            "text/plain": [
              "Output()"
            ]
          },
          "metadata": {},
          "output_type": "display_data"
        },
        {
          "name": "stdout",
          "output_type": "stream",
          "text": [
            "Modelo 'Doctor-Shotgun/TinyLlama-1.1B-32k-Instruct' cargado en cpu.\n"
          ]
        },
        {
          "data": {
            "text/html": [
              "<pre style=\"white-space:pre;overflow-x:auto;line-height:normal;font-family:Menlo,'DejaVu Sans Mono',consolas,'Courier New',monospace\"></pre>\n"
            ],
            "text/plain": []
          },
          "metadata": {},
          "output_type": "display_data"
        },
        {
          "data": {
            "application/vnd.microsoft.datawrangler.viewer.v0+json": {
              "columns": [
                {
                  "name": "index",
                  "rawType": "int64",
                  "type": "integer"
                },
                {
                  "name": "modelo",
                  "rawType": "object",
                  "type": "string"
                },
                {
                  "name": "input_tokens",
                  "rawType": "int64",
                  "type": "integer"
                },
                {
                  "name": "output_tokens",
                  "rawType": "int64",
                  "type": "integer"
                },
                {
                  "name": "tiempo_seg",
                  "rawType": "float64",
                  "type": "float"
                },
                {
                  "name": "tok_s",
                  "rawType": "float64",
                  "type": "float"
                },
                {
                  "name": "temperature",
                  "rawType": "float64",
                  "type": "float"
                },
                {
                  "name": "max_new_tokens",
                  "rawType": "int64",
                  "type": "integer"
                },
                {
                  "name": "top_p",
                  "rawType": "float64",
                  "type": "float"
                },
                {
                  "name": "top_k",
                  "rawType": "int64",
                  "type": "integer"
                },
                {
                  "name": "repetition_penalty",
                  "rawType": "float64",
                  "type": "float"
                },
                {
                  "name": "cpu_before",
                  "rawType": "float64",
                  "type": "float"
                },
                {
                  "name": "cpu_after",
                  "rawType": "float64",
                  "type": "float"
                },
                {
                  "name": "ram_before_pct",
                  "rawType": "float64",
                  "type": "float"
                },
                {
                  "name": "ram_after_pct",
                  "rawType": "float64",
                  "type": "float"
                },
                {
                  "name": "vram_before_mb",
                  "rawType": "float64",
                  "type": "float"
                },
                {
                  "name": "vram_after_mb",
                  "rawType": "float64",
                  "type": "float"
                },
                {
                  "name": "run",
                  "rawType": "int64",
                  "type": "integer"
                }
              ],
              "ref": "bda27d7a-68d6-42f6-a4b8-bbf8219084a5",
              "rows": [
                [
                  "0",
                  "TinyLlama/TinyLlama-1.1B-Chat-v1.0",
                  "44",
                  "185",
                  "255.643",
                  "0.72",
                  "0.7",
                  "256",
                  "0.95",
                  "50",
                  "1.1",
                  "79.6",
                  "0.0",
                  "55.1",
                  "55.2",
                  "0.0",
                  "0.0",
                  "1"
                ],
                [
                  "1",
                  "Qwen/Qwen2.5-0.5B-Instruct",
                  "30",
                  "87",
                  "39.539",
                  "2.2",
                  "0.7",
                  "512",
                  "0.9",
                  "40",
                  "1.05",
                  "43.0",
                  "0.0",
                  "55.2",
                  "55.2",
                  "0.0",
                  "0.0",
                  "1"
                ],
                [
                  "2",
                  "Doctor-Shotgun/TinyLlama-1.1B-32k-Instruct",
                  "41",
                  "272",
                  "328.751",
                  "0.83",
                  "0.7",
                  "300",
                  "0.9",
                  "40",
                  "1.05",
                  "80.5",
                  "0.0",
                  "55.4",
                  "55.0",
                  "0.0",
                  "0.0",
                  "1"
                ]
              ],
              "shape": {
                "columns": 17,
                "rows": 3
              }
            },
            "text/html": [
              "<div>\n",
              "<style scoped>\n",
              "    .dataframe tbody tr th:only-of-type {\n",
              "        vertical-align: middle;\n",
              "    }\n",
              "\n",
              "    .dataframe tbody tr th {\n",
              "        vertical-align: top;\n",
              "    }\n",
              "\n",
              "    .dataframe thead th {\n",
              "        text-align: right;\n",
              "    }\n",
              "</style>\n",
              "<table border=\"1\" class=\"dataframe\">\n",
              "  <thead>\n",
              "    <tr style=\"text-align: right;\">\n",
              "      <th></th>\n",
              "      <th>modelo</th>\n",
              "      <th>input_tokens</th>\n",
              "      <th>output_tokens</th>\n",
              "      <th>tiempo_seg</th>\n",
              "      <th>tok_s</th>\n",
              "      <th>temperature</th>\n",
              "      <th>max_new_tokens</th>\n",
              "      <th>top_p</th>\n",
              "      <th>top_k</th>\n",
              "      <th>repetition_penalty</th>\n",
              "      <th>cpu_before</th>\n",
              "      <th>cpu_after</th>\n",
              "      <th>ram_before_pct</th>\n",
              "      <th>ram_after_pct</th>\n",
              "      <th>vram_before_mb</th>\n",
              "      <th>vram_after_mb</th>\n",
              "      <th>run</th>\n",
              "    </tr>\n",
              "  </thead>\n",
              "  <tbody>\n",
              "    <tr>\n",
              "      <th>0</th>\n",
              "      <td>TinyLlama/TinyLlama-1.1B-Chat-v1.0</td>\n",
              "      <td>44</td>\n",
              "      <td>185</td>\n",
              "      <td>255.643</td>\n",
              "      <td>0.72</td>\n",
              "      <td>0.7</td>\n",
              "      <td>256</td>\n",
              "      <td>0.95</td>\n",
              "      <td>50</td>\n",
              "      <td>1.10</td>\n",
              "      <td>79.6</td>\n",
              "      <td>0.0</td>\n",
              "      <td>55.1</td>\n",
              "      <td>55.2</td>\n",
              "      <td>0.0</td>\n",
              "      <td>0.0</td>\n",
              "      <td>1</td>\n",
              "    </tr>\n",
              "    <tr>\n",
              "      <th>1</th>\n",
              "      <td>Qwen/Qwen2.5-0.5B-Instruct</td>\n",
              "      <td>30</td>\n",
              "      <td>87</td>\n",
              "      <td>39.539</td>\n",
              "      <td>2.20</td>\n",
              "      <td>0.7</td>\n",
              "      <td>512</td>\n",
              "      <td>0.90</td>\n",
              "      <td>40</td>\n",
              "      <td>1.05</td>\n",
              "      <td>43.0</td>\n",
              "      <td>0.0</td>\n",
              "      <td>55.2</td>\n",
              "      <td>55.2</td>\n",
              "      <td>0.0</td>\n",
              "      <td>0.0</td>\n",
              "      <td>1</td>\n",
              "    </tr>\n",
              "    <tr>\n",
              "      <th>2</th>\n",
              "      <td>Doctor-Shotgun/TinyLlama-1.1B-32k-Instruct</td>\n",
              "      <td>41</td>\n",
              "      <td>272</td>\n",
              "      <td>328.751</td>\n",
              "      <td>0.83</td>\n",
              "      <td>0.7</td>\n",
              "      <td>300</td>\n",
              "      <td>0.90</td>\n",
              "      <td>40</td>\n",
              "      <td>1.05</td>\n",
              "      <td>80.5</td>\n",
              "      <td>0.0</td>\n",
              "      <td>55.4</td>\n",
              "      <td>55.0</td>\n",
              "      <td>0.0</td>\n",
              "      <td>0.0</td>\n",
              "      <td>1</td>\n",
              "    </tr>\n",
              "  </tbody>\n",
              "</table>\n",
              "</div>"
            ],
            "text/plain": [
              "                                       modelo  input_tokens  output_tokens  \\\n",
              "0          TinyLlama/TinyLlama-1.1B-Chat-v1.0            44            185   \n",
              "1                  Qwen/Qwen2.5-0.5B-Instruct            30             87   \n",
              "2  Doctor-Shotgun/TinyLlama-1.1B-32k-Instruct            41            272   \n",
              "\n",
              "   tiempo_seg  tok_s  temperature  max_new_tokens  top_p  top_k  \\\n",
              "0     255.643   0.72          0.7             256   0.95     50   \n",
              "1      39.539   2.20          0.7             512   0.90     40   \n",
              "2     328.751   0.83          0.7             300   0.90     40   \n",
              "\n",
              "   repetition_penalty  cpu_before  cpu_after  ram_before_pct  ram_after_pct  \\\n",
              "0                1.10        79.6        0.0            55.1           55.2   \n",
              "1                1.05        43.0        0.0            55.2           55.2   \n",
              "2                1.05        80.5        0.0            55.4           55.0   \n",
              "\n",
              "   vram_before_mb  vram_after_mb  run  \n",
              "0             0.0            0.0    1  \n",
              "1             0.0            0.0    1  \n",
              "2             0.0            0.0    1  "
            ]
          },
          "metadata": {},
          "output_type": "display_data"
        }
      ],
      "source": [
        "df_results = benchmarkModels(\n",
        "    models=models,\n",
        "    prompt=prompt,\n",
        "    systemText=\"You are a helpful assistant.\",\n",
        "    runs=1,\n",
        "    use4bit=True,\n",
        "    csvPath=CSV_PATH\n",
        ")\n",
        "display(df_results)"
      ]
    },
    {
      "cell_type": "markdown",
      "metadata": {},
      "source": [
        "## Visualizar data"
      ]
    },
    {
      "cell_type": "code",
      "execution_count": 88,
      "metadata": {},
      "outputs": [
        {
          "data": {
            "application/vnd.microsoft.datawrangler.viewer.v0+json": {
              "columns": [
                {
                  "name": "index",
                  "rawType": "int64",
                  "type": "integer"
                },
                {
                  "name": "modelo",
                  "rawType": "object",
                  "type": "string"
                },
                {
                  "name": "input_tokens",
                  "rawType": "int64",
                  "type": "integer"
                },
                {
                  "name": "output_tokens",
                  "rawType": "int64",
                  "type": "integer"
                },
                {
                  "name": "tiempo_seg",
                  "rawType": "float64",
                  "type": "float"
                },
                {
                  "name": "tok_s",
                  "rawType": "float64",
                  "type": "float"
                },
                {
                  "name": "temperature",
                  "rawType": "float64",
                  "type": "float"
                },
                {
                  "name": "max_new_tokens",
                  "rawType": "int64",
                  "type": "integer"
                },
                {
                  "name": "top_p",
                  "rawType": "float64",
                  "type": "float"
                },
                {
                  "name": "top_k",
                  "rawType": "int64",
                  "type": "integer"
                },
                {
                  "name": "repetition_penalty",
                  "rawType": "float64",
                  "type": "float"
                },
                {
                  "name": "cpu_before",
                  "rawType": "float64",
                  "type": "float"
                },
                {
                  "name": "cpu_after",
                  "rawType": "float64",
                  "type": "float"
                },
                {
                  "name": "ram_before_pct",
                  "rawType": "float64",
                  "type": "float"
                },
                {
                  "name": "ram_after_pct",
                  "rawType": "float64",
                  "type": "float"
                },
                {
                  "name": "vram_before_mb",
                  "rawType": "float64",
                  "type": "float"
                },
                {
                  "name": "vram_after_mb",
                  "rawType": "float64",
                  "type": "float"
                }
              ],
              "ref": "b2e10eef-9728-45a9-835d-419b95667da6",
              "rows": [
                [
                  "0",
                  "TinyLlama/TinyLlama-1.1B-Chat-v1.0",
                  "44",
                  "180",
                  "194.688",
                  "0.92",
                  "0.7",
                  "256",
                  "0.95",
                  "50",
                  "1.1",
                  "17.4",
                  "0.0",
                  "54.0",
                  "54.3",
                  "0.0",
                  "0.0"
                ],
                [
                  "1",
                  "Qwen/Qwen2.5-0.5B-Instruct",
                  "40",
                  "212",
                  "89.175",
                  "2.38",
                  "0.7",
                  "512",
                  "0.9",
                  "40",
                  "1.05",
                  "67.0",
                  "0.0",
                  "52.4",
                  "52.5",
                  "0.0",
                  "0.0"
                ],
                [
                  "2",
                  "Doctor-Shotgun/TinyLlama-1.1B-32k-Instruct",
                  "40",
                  "302",
                  "320.583",
                  "0.94",
                  "0.7",
                  "300",
                  "0.9",
                  "40",
                  "1.05",
                  "35.5",
                  "0.0",
                  "55.9",
                  "54.7",
                  "0.0",
                  "0.0"
                ],
                [
                  "3",
                  "TinyLlama/TinyLlama-1.1B-Chat-v1.0",
                  "44",
                  "185",
                  "255.643",
                  "0.72",
                  "0.7",
                  "256",
                  "0.95",
                  "50",
                  "1.1",
                  "79.6",
                  "0.0",
                  "55.1",
                  "55.2",
                  "0.0",
                  "0.0"
                ],
                [
                  "4",
                  "Qwen/Qwen2.5-0.5B-Instruct",
                  "30",
                  "87",
                  "39.539",
                  "2.2",
                  "0.7",
                  "512",
                  "0.9",
                  "40",
                  "1.05",
                  "43.0",
                  "0.0",
                  "55.2",
                  "55.2",
                  "0.0",
                  "0.0"
                ],
                [
                  "5",
                  "Doctor-Shotgun/TinyLlama-1.1B-32k-Instruct",
                  "41",
                  "272",
                  "328.751",
                  "0.83",
                  "0.7",
                  "300",
                  "0.9",
                  "40",
                  "1.05",
                  "80.5",
                  "0.0",
                  "55.4",
                  "55.0",
                  "0.0",
                  "0.0"
                ]
              ],
              "shape": {
                "columns": 16,
                "rows": 6
              }
            },
            "text/html": [
              "<div>\n",
              "<style scoped>\n",
              "    .dataframe tbody tr th:only-of-type {\n",
              "        vertical-align: middle;\n",
              "    }\n",
              "\n",
              "    .dataframe tbody tr th {\n",
              "        vertical-align: top;\n",
              "    }\n",
              "\n",
              "    .dataframe thead th {\n",
              "        text-align: right;\n",
              "    }\n",
              "</style>\n",
              "<table border=\"1\" class=\"dataframe\">\n",
              "  <thead>\n",
              "    <tr style=\"text-align: right;\">\n",
              "      <th></th>\n",
              "      <th>modelo</th>\n",
              "      <th>input_tokens</th>\n",
              "      <th>output_tokens</th>\n",
              "      <th>tiempo_seg</th>\n",
              "      <th>tok_s</th>\n",
              "      <th>temperature</th>\n",
              "      <th>max_new_tokens</th>\n",
              "      <th>top_p</th>\n",
              "      <th>top_k</th>\n",
              "      <th>repetition_penalty</th>\n",
              "      <th>cpu_before</th>\n",
              "      <th>cpu_after</th>\n",
              "      <th>ram_before_pct</th>\n",
              "      <th>ram_after_pct</th>\n",
              "      <th>vram_before_mb</th>\n",
              "      <th>vram_after_mb</th>\n",
              "    </tr>\n",
              "  </thead>\n",
              "  <tbody>\n",
              "    <tr>\n",
              "      <th>0</th>\n",
              "      <td>TinyLlama/TinyLlama-1.1B-Chat-v1.0</td>\n",
              "      <td>44</td>\n",
              "      <td>180</td>\n",
              "      <td>194.688</td>\n",
              "      <td>0.92</td>\n",
              "      <td>0.7</td>\n",
              "      <td>256</td>\n",
              "      <td>0.95</td>\n",
              "      <td>50</td>\n",
              "      <td>1.10</td>\n",
              "      <td>17.4</td>\n",
              "      <td>0.0</td>\n",
              "      <td>54.0</td>\n",
              "      <td>54.3</td>\n",
              "      <td>0.0</td>\n",
              "      <td>0.0</td>\n",
              "    </tr>\n",
              "    <tr>\n",
              "      <th>1</th>\n",
              "      <td>Qwen/Qwen2.5-0.5B-Instruct</td>\n",
              "      <td>40</td>\n",
              "      <td>212</td>\n",
              "      <td>89.175</td>\n",
              "      <td>2.38</td>\n",
              "      <td>0.7</td>\n",
              "      <td>512</td>\n",
              "      <td>0.90</td>\n",
              "      <td>40</td>\n",
              "      <td>1.05</td>\n",
              "      <td>67.0</td>\n",
              "      <td>0.0</td>\n",
              "      <td>52.4</td>\n",
              "      <td>52.5</td>\n",
              "      <td>0.0</td>\n",
              "      <td>0.0</td>\n",
              "    </tr>\n",
              "    <tr>\n",
              "      <th>2</th>\n",
              "      <td>Doctor-Shotgun/TinyLlama-1.1B-32k-Instruct</td>\n",
              "      <td>40</td>\n",
              "      <td>302</td>\n",
              "      <td>320.583</td>\n",
              "      <td>0.94</td>\n",
              "      <td>0.7</td>\n",
              "      <td>300</td>\n",
              "      <td>0.90</td>\n",
              "      <td>40</td>\n",
              "      <td>1.05</td>\n",
              "      <td>35.5</td>\n",
              "      <td>0.0</td>\n",
              "      <td>55.9</td>\n",
              "      <td>54.7</td>\n",
              "      <td>0.0</td>\n",
              "      <td>0.0</td>\n",
              "    </tr>\n",
              "    <tr>\n",
              "      <th>3</th>\n",
              "      <td>TinyLlama/TinyLlama-1.1B-Chat-v1.0</td>\n",
              "      <td>44</td>\n",
              "      <td>185</td>\n",
              "      <td>255.643</td>\n",
              "      <td>0.72</td>\n",
              "      <td>0.7</td>\n",
              "      <td>256</td>\n",
              "      <td>0.95</td>\n",
              "      <td>50</td>\n",
              "      <td>1.10</td>\n",
              "      <td>79.6</td>\n",
              "      <td>0.0</td>\n",
              "      <td>55.1</td>\n",
              "      <td>55.2</td>\n",
              "      <td>0.0</td>\n",
              "      <td>0.0</td>\n",
              "    </tr>\n",
              "    <tr>\n",
              "      <th>4</th>\n",
              "      <td>Qwen/Qwen2.5-0.5B-Instruct</td>\n",
              "      <td>30</td>\n",
              "      <td>87</td>\n",
              "      <td>39.539</td>\n",
              "      <td>2.20</td>\n",
              "      <td>0.7</td>\n",
              "      <td>512</td>\n",
              "      <td>0.90</td>\n",
              "      <td>40</td>\n",
              "      <td>1.05</td>\n",
              "      <td>43.0</td>\n",
              "      <td>0.0</td>\n",
              "      <td>55.2</td>\n",
              "      <td>55.2</td>\n",
              "      <td>0.0</td>\n",
              "      <td>0.0</td>\n",
              "    </tr>\n",
              "    <tr>\n",
              "      <th>5</th>\n",
              "      <td>Doctor-Shotgun/TinyLlama-1.1B-32k-Instruct</td>\n",
              "      <td>41</td>\n",
              "      <td>272</td>\n",
              "      <td>328.751</td>\n",
              "      <td>0.83</td>\n",
              "      <td>0.7</td>\n",
              "      <td>300</td>\n",
              "      <td>0.90</td>\n",
              "      <td>40</td>\n",
              "      <td>1.05</td>\n",
              "      <td>80.5</td>\n",
              "      <td>0.0</td>\n",
              "      <td>55.4</td>\n",
              "      <td>55.0</td>\n",
              "      <td>0.0</td>\n",
              "      <td>0.0</td>\n",
              "    </tr>\n",
              "  </tbody>\n",
              "</table>\n",
              "</div>"
            ],
            "text/plain": [
              "                                       modelo  input_tokens  output_tokens  \\\n",
              "0          TinyLlama/TinyLlama-1.1B-Chat-v1.0            44            180   \n",
              "1                  Qwen/Qwen2.5-0.5B-Instruct            40            212   \n",
              "2  Doctor-Shotgun/TinyLlama-1.1B-32k-Instruct            40            302   \n",
              "3          TinyLlama/TinyLlama-1.1B-Chat-v1.0            44            185   \n",
              "4                  Qwen/Qwen2.5-0.5B-Instruct            30             87   \n",
              "5  Doctor-Shotgun/TinyLlama-1.1B-32k-Instruct            41            272   \n",
              "\n",
              "   tiempo_seg  tok_s  temperature  max_new_tokens  top_p  top_k  \\\n",
              "0     194.688   0.92          0.7             256   0.95     50   \n",
              "1      89.175   2.38          0.7             512   0.90     40   \n",
              "2     320.583   0.94          0.7             300   0.90     40   \n",
              "3     255.643   0.72          0.7             256   0.95     50   \n",
              "4      39.539   2.20          0.7             512   0.90     40   \n",
              "5     328.751   0.83          0.7             300   0.90     40   \n",
              "\n",
              "   repetition_penalty  cpu_before  cpu_after  ram_before_pct  ram_after_pct  \\\n",
              "0                1.10        17.4        0.0            54.0           54.3   \n",
              "1                1.05        67.0        0.0            52.4           52.5   \n",
              "2                1.05        35.5        0.0            55.9           54.7   \n",
              "3                1.10        79.6        0.0            55.1           55.2   \n",
              "4                1.05        43.0        0.0            55.2           55.2   \n",
              "5                1.05        80.5        0.0            55.4           55.0   \n",
              "\n",
              "   vram_before_mb  vram_after_mb  \n",
              "0             0.0            0.0  \n",
              "1             0.0            0.0  \n",
              "2             0.0            0.0  \n",
              "3             0.0            0.0  \n",
              "4             0.0            0.0  \n",
              "5             0.0            0.0  "
            ]
          },
          "metadata": {},
          "output_type": "display_data"
        }
      ],
      "source": [
        "df_metrics = loadResults(CSV_PATH)\n",
        "display(df_metrics)"
      ]
    },
    {
      "cell_type": "code",
      "execution_count": 89,
      "metadata": {},
      "outputs": [
        {
          "data": {
            "image/png": "[encoded data removed]",
            "text/plain": [
              "<Figure size 640x480 with 1 Axes>"
            ]
          },
          "metadata": {},
          "output_type": "display_data"
        },
        {
          "data": {
            "image/png": "[encoded data removed]",
            "text/plain": [
              "<Figure size 640x480 with 1 Axes>"
            ]
          },
          "metadata": {},
          "output_type": "display_data"
        }
      ],
      "source": [
        "plotQuick(df_metrics)"
      ]
    },
    {
      "cell_type": "code",
      "execution_count": 90,
      "metadata": {},
      "outputs": [
        {
          "name": "stdout",
          "output_type": "stream",
          "text": [
            "Resultados exportados a resultados_finales_lab.csv\n"
          ]
        }
      ],
      "source": [
        "df_metrics.to_csv(\"resultados_finales_lab.csv\", index=False)\n",
        "print(\"Resultados exportados a resultados_finales_lab.csv\")"
      ]
    },
    {
      "cell_type": "markdown",
      "metadata": {},
      "source": [
        "## Análisis comparativo de rendimiento de modelos de lenguaje\n",
        "\n",
        "Los resultados muestran diferencias entre los tres modelos evaluados en **tiempo de inferencia**, **velocidad de generación** y **uso de recursos**, contrastados con la ejecución de **ChatGPT**.\n",
        "\n",
        "### 1. Resultados generales de inferencia\n",
        "\n",
        "| Modelo                                         | Tokens generados | Tiempo total (s)        | Velocidad (tokens/s) | Observaciones                                                                        |\n",
        "| ---------------------------------------------- | ---------------- | ----------------------- | -------------------- | ------------------------------------------------------------------------------------ |\n",
        "| **TinyLlama/TinyLlama-1.1B-Chat-v1.0**         | 180–185          | 195–256 ($\\approx$ 3–4.1 min)   | 0.72–0.92            | Generación estable pero lenta; el tamaño del modelo (1.1B) eleva el tiempo de carga. |\n",
        "| **Qwen/Qwen2.5-0.5B-Instruct**                 | 87–212           | 39–89 ($\\approx$ 1.3 min)       | 2.2–2.4              | El más rápido; tamaño reducido (0.5B) y arquitectura optimizada.                     |\n",
        "| **Doctor-Shotgun/TinyLlama-1.1B-32k-Instruct** | 272–302          | 320–329 ($\\approx$ 5.3–5.5 min) | 0.83–0.94            | El más lento; contexto extendido (32k) aumenta el costo computacional.               |\n",
        "\n",
        "Durante las pruebas, el uso de CPU osciló entre **17 % y 80 %**, y la **RAM** se mantuvo entre **52 % y 55 %**. No hubo uso de GPU (latencia alta).\n",
        "\n",
        "### 2. Interpretación del rendimiento\n",
        "\n",
        "- **TinyLlama:** inferencia lenta ($\\approx$ 4 min). Lento para implementación en tiempo real.\n",
        "- **Qwen:** más eficiente, completó la generación en menos de 90 s con buena coherencia.\n",
        "- **Doctor-Shotgun:** el más costoso en tiempo (>5 min), coherente con su entrenamiento en contextos largos.\n",
        "\n",
        "### 3. Comparación con ChatGPT\n",
        "\n",
        "ChatGPT generó la misma respuesta casi **instantáneamente**, sin retardo perceptible.\n",
        "Esto evidencia la diferencia entre:\n",
        "\n",
        "- **Ejecución local:** dependiente del hardware y tamaño del modelo.\n",
        "- **Ejecución en la nube (ChatGPT):** sobre infraestructura optimizada con GPUs y paralelización.\n",
        "\n",
        "### 4. Resultados visuales\n",
        "\n",
        "Las gráficas muestran el **tiempo promedio de respuesta** y la **velocidad de generación (tok/s)**, donde se confirma que Qwen supera en eficiencia a los otros modelos.\n",
        "\n",
        "![Tiempo promedio](./images/tiempo_promedio.png)\n",
        "\n",
        "![Velocidad promedio](./images/velocidad_promedio.png)\n",
        "\n",
        "- **Doctor-Shotgun:** mayor tiempo, menor eficiencia.\n",
        "- **TinyLlama:** rendimiento intermedio.\n",
        "- **Qwen:** mejor equilibrio entre calidad, tiempo y velocidad.\n",
        "\n",
        "### 5. Conclusiones\n",
        "\n",
        "1. **Velocidad:** Qwen fue el más rápido; ChatGPT el más eficiente por su infraestructura.\n",
        "2. **Recursos:** uso estable de RAM ($\\approx$ 55 %) y CPU variable; la falta de GPU elevó los tiempos.\n",
        "3. **Calidad:**\n",
        "   - TinyLlama: salida genérica.\n",
        "   - Qwen: precisa y estructurada.\n",
        "   - Doctor-Shotgun: extensa pero menos coherente.\n",
        "   - ChatGPT: clara y completa.\n",
        "4. **Factores de lentitud:** carga inicial, tamaño (1.1B) y ejecución en CPU.\n"
      ]
    }
  ],
  "metadata": {
    "accelerator": "GPU",
    "colab": {
      "gpuType": "T4",
      "provenance": []
    },
    "kernelspec": {
      "display_name": ".venv",
      "language": "python",
      "name": "python3"
    },
    "language_info": {
      "codemirror_mode": {
        "name": "ipython",
        "version": 3
      },
      "file_extension": ".py",
      "mimetype": "text/x-python",
      "name": "python",
      "nbconvert_exporter": "python",
      "pygments_lexer": "ipython3",
      "version": "3.13.5"
    },
    "widgets": {
      "application/vnd.jupyter.widget-state+json": {
        "0181ad1c65f948c295247d2e42ffdeca": {
          "model_module": "@jupyter-widgets/base",
          "model_module_version": "1.2.0",
          "model_name": "LayoutModel",
          "state": {
            "_model_module": "@jupyter-widgets/base",
            "_model_module_version": "1.2.0",
            "_model_name": "LayoutModel",
            "_view_count": null,
            "_view_module": "@jupyter-widgets/base",
            "_view_module_version": "1.2.0",
            "_view_name": "LayoutView",
            "align_content": null,
            "align_items": null,
            "align_self": null,
            "border": null,
            "bottom": null,
            "display": null,
            "flex": null,
            "flex_flow": null,
            "grid_area": null,
            "grid_auto_columns": null,
            "grid_auto_flow": null,
            "grid_auto_rows": null,
            "grid_column": null,
            "grid_gap": null,
            "grid_row": null,
            "grid_template_areas": null,
            "grid_template_columns": null,
            "grid_template_rows": null,
            "height": null,
            "justify_content": null,
            "justify_items": null,
            "left": null,
            "margin": null,
            "max_height": null,
            "max_width": null,
            "min_height": null,
            "min_width": null,
            "object_fit": null,
            "object_position": null,
            "order": null,
            "overflow": null,
            "overflow_x": null,
            "overflow_y": null,
            "padding": null,
            "right": null,
            "top": null,
            "visibility": null,
            "width": null
          }
        },
        "090d0590643d41bebd9fb25e5cc434df": {
          "model_module": "@jupyter-widgets/base",
          "model_module_version": "1.2.0",
          "model_name": "LayoutModel",
          "state": {
            "_model_module": "@jupyter-widgets/base",
            "_model_module_version": "1.2.0",
            "_model_name": "LayoutModel",
            "_view_count": null,
            "_view_module": "@jupyter-widgets/base",
            "_view_module_version": "1.2.0",
            "_view_name": "LayoutView",
            "align_content": null,
            "align_items": null,
            "align_self": null,
            "border": null,
            "bottom": null,
            "display": null,
            "flex": null,
            "flex_flow": null,
            "grid_area": null,
            "grid_auto_columns": null,
            "grid_auto_flow": null,
            "grid_auto_rows": null,
            "grid_column": null,
            "grid_gap": null,
            "grid_row": null,
            "grid_template_areas": null,
            "grid_template_columns": null,
            "grid_template_rows": null,
            "height": null,
            "justify_content": null,
            "justify_items": null,
            "left": null,
            "margin": null,
            "max_height": null,
            "max_width": null,
            "min_height": null,
            "min_width": null,
            "object_fit": null,
            "object_position": null,
            "order": null,
            "overflow": null,
            "overflow_x": null,
            "overflow_y": null,
            "padding": null,
            "right": null,
            "top": null,
            "visibility": null,
            "width": null
          }
        },
        "096799442a6242c394518ed546869c85": {
          "model_module": "@jupyter-widgets/controls",
          "model_module_version": "1.5.0",
          "model_name": "HBoxModel",
          "state": {
            "_dom_classes": [],
            "_model_module": "@jupyter-widgets/controls",
            "_model_module_version": "1.5.0",
            "_model_name": "HBoxModel",
            "_view_count": null,
            "_view_module": "@jupyter-widgets/controls",
            "_view_module_version": "1.5.0",
            "_view_name": "HBoxView",
            "box_style": "",
            "children": [
              "IPY_MODEL_c7432183ce4b4b42aeb552ed5ced8aa9",
              "IPY_MODEL_4cc06b03c3654f078db1be36ad8eca1e",
              "IPY_MODEL_43ee4fc2fa724587b3a957d76b682271"
            ],
            "layout": "IPY_MODEL_367429f74964473a9f97e20d22f59e50"
          }
        },
        "0991aba7e5d448e5840f297b4c808bd7": {
          "model_module": "@jupyter-widgets/controls",
          "model_module_version": "1.5.0",
          "model_name": "FloatProgressModel",
          "state": {
            "_dom_classes": [],
            "_model_module": "@jupyter-widgets/controls",
            "_model_module_version": "1.5.0",
            "_model_name": "FloatProgressModel",
            "_view_count": null,
            "_view_module": "@jupyter-widgets/controls",
            "_view_module_version": "1.5.0",
            "_view_name": "ProgressView",
            "bar_style": "success",
            "description": "",
            "description_tooltip": null,
            "layout": "IPY_MODEL_246df2f988364af692db9ed6993d2400",
            "max": 2200119864,
            "min": 0,
            "orientation": "horizontal",
            "style": "IPY_MODEL_f0a26c6d85c449d3b9a912cddbc82bb1",
            "value": 2200119864
          }
        },
        "0bd94156e196408cb526c3364b1eee28": {
          "model_module": "@jupyter-widgets/controls",
          "model_module_version": "1.5.0",
          "model_name": "ProgressStyleModel",
          "state": {
            "_model_module": "@jupyter-widgets/controls",
            "_model_module_version": "1.5.0",
            "_model_name": "ProgressStyleModel",
            "_view_count": null,
            "_view_module": "@jupyter-widgets/base",
            "_view_module_version": "1.2.0",
            "_view_name": "StyleView",
            "bar_color": null,
            "description_width": ""
          }
        },
        "0e758a3f50744a35896dcec8bcbd6be4": {
          "model_module": "@jupyter-widgets/base",
          "model_module_version": "1.2.0",
          "model_name": "LayoutModel",
          "state": {
            "_model_module": "@jupyter-widgets/base",
            "_model_module_version": "1.2.0",
            "_model_name": "LayoutModel",
            "_view_count": null,
            "_view_module": "@jupyter-widgets/base",
            "_view_module_version": "1.2.0",
            "_view_name": "LayoutView",
            "align_content": null,
            "align_items": null,
            "align_self": null,
            "border": null,
            "bottom": null,
            "display": null,
            "flex": null,
            "flex_flow": null,
            "grid_area": null,
            "grid_auto_columns": null,
            "grid_auto_flow": null,
            "grid_auto_rows": null,
            "grid_column": null,
            "grid_gap": null,
            "grid_row": null,
            "grid_template_areas": null,
            "grid_template_columns": null,
            "grid_template_rows": null,
            "height": null,
            "justify_content": null,
            "justify_items": null,
            "left": null,
            "margin": null,
            "max_height": null,
            "max_width": null,
            "min_height": null,
            "min_width": null,
            "object_fit": null,
            "object_position": null,
            "order": null,
            "overflow": null,
            "overflow_x": null,
            "overflow_y": null,
            "padding": null,
            "right": null,
            "top": null,
            "visibility": null,
            "width": null
          }
        },
        "135d5eedf418460ebacbf58716c36903": {
          "model_module": "@jupyter-widgets/controls",
          "model_module_version": "1.5.0",
          "model_name": "HBoxModel",
          "state": {
            "_dom_classes": [],
            "_model_module": "@jupyter-widgets/controls",
            "_model_module_version": "1.5.0",
            "_model_name": "HBoxModel",
            "_view_count": null,
            "_view_module": "@jupyter-widgets/controls",
            "_view_module_version": "1.5.0",
            "_view_name": "HBoxView",
            "box_style": "",
            "children": [
              "IPY_MODEL_c9cb45711ac14f7c9304be7d7cb524a4",
              "IPY_MODEL_8e94d6b7789e42708cad9c097b7f7fee",
              "IPY_MODEL_35748da9eed34f28a6223d2d9ee6d517"
            ],
            "layout": "IPY_MODEL_372bcd11729742e4821866522eff0ab2"
          }
        },
        "192a24afa0ca400da038d19628dba674": {
          "model_module": "@jupyter-widgets/controls",
          "model_module_version": "1.5.0",
          "model_name": "DescriptionStyleModel",
          "state": {
            "_model_module": "@jupyter-widgets/controls",
            "_model_module_version": "1.5.0",
            "_model_name": "DescriptionStyleModel",
            "_view_count": null,
            "_view_module": "@jupyter-widgets/base",
            "_view_module_version": "1.2.0",
            "_view_name": "StyleView",
            "description_width": ""
          }
        },
        "1a20041a2ad54626a9c5beef48afc2ca": {
          "model_module": "@jupyter-widgets/base",
          "model_module_version": "1.2.0",
          "model_name": "LayoutModel",
          "state": {
            "_model_module": "@jupyter-widgets/base",
            "_model_module_version": "1.2.0",
            "_model_name": "LayoutModel",
            "_view_count": null,
            "_view_module": "@jupyter-widgets/base",
            "_view_module_version": "1.2.0",
            "_view_name": "LayoutView",
            "align_content": null,
            "align_items": null,
            "align_self": null,
            "border": null,
            "bottom": null,
            "display": null,
            "flex": null,
            "flex_flow": null,
            "grid_area": null,
            "grid_auto_columns": null,
            "grid_auto_flow": null,
            "grid_auto_rows": null,
            "grid_column": null,
            "grid_gap": null,
            "grid_row": null,
            "grid_template_areas": null,
            "grid_template_columns": null,
            "grid_template_rows": null,
            "height": null,
            "justify_content": null,
            "justify_items": null,
            "left": null,
            "margin": null,
            "max_height": null,
            "max_width": null,
            "min_height": null,
            "min_width": null,
            "object_fit": null,
            "object_position": null,
            "order": null,
            "overflow": null,
            "overflow_x": null,
            "overflow_y": null,
            "padding": null,
            "right": null,
            "top": null,
            "visibility": null,
            "width": null
          }
        },
        "246df2f988364af692db9ed6993d2400": {
          "model_module": "@jupyter-widgets/base",
          "model_module_version": "1.2.0",
          "model_name": "LayoutModel",
          "state": {
            "_model_module": "@jupyter-widgets/base",
            "_model_module_version": "1.2.0",
            "_model_name": "LayoutModel",
            "_view_count": null,
            "_view_module": "@jupyter-widgets/base",
            "_view_module_version": "1.2.0",
            "_view_name": "LayoutView",
            "align_content": null,
            "align_items": null,
            "align_self": null,
            "border": null,
            "bottom": null,
            "display": null,
            "flex": null,
            "flex_flow": null,
            "grid_area": null,
            "grid_auto_columns": null,
            "grid_auto_flow": null,
            "grid_auto_rows": null,
            "grid_column": null,
            "grid_gap": null,
            "grid_row": null,
            "grid_template_areas": null,
            "grid_template_columns": null,
            "grid_template_rows": null,
            "height": null,
            "justify_content": null,
            "justify_items": null,
            "left": null,
            "margin": null,
            "max_height": null,
            "max_width": null,
            "min_height": null,
            "min_width": null,
            "object_fit": null,
            "object_position": null,
            "order": null,
            "overflow": null,
            "overflow_x": null,
            "overflow_y": null,
            "padding": null,
            "right": null,
            "top": null,
            "visibility": null,
            "width": null
          }
        },
        "2f8372b18c684e5894a0c007436ad8c8": {
          "model_module": "@jupyter-widgets/base",
          "model_module_version": "1.2.0",
          "model_name": "LayoutModel",
          "state": {
            "_model_module": "@jupyter-widgets/base",
            "_model_module_version": "1.2.0",
            "_model_name": "LayoutModel",
            "_view_count": null,
            "_view_module": "@jupyter-widgets/base",
            "_view_module_version": "1.2.0",
            "_view_name": "LayoutView",
            "align_content": null,
            "align_items": null,
            "align_self": null,
            "border": null,
            "bottom": null,
            "display": null,
            "flex": null,
            "flex_flow": null,
            "grid_area": null,
            "grid_auto_columns": null,
            "grid_auto_flow": null,
            "grid_auto_rows": null,
            "grid_column": null,
            "grid_gap": null,
            "grid_row": null,
            "grid_template_areas": null,
            "grid_template_columns": null,
            "grid_template_rows": null,
            "height": null,
            "justify_content": null,
            "justify_items": null,
            "left": null,
            "margin": null,
            "max_height": null,
            "max_width": null,
            "min_height": null,
            "min_width": null,
            "object_fit": null,
            "object_position": null,
            "order": null,
            "overflow": null,
            "overflow_x": null,
            "overflow_y": null,
            "padding": null,
            "right": null,
            "top": null,
            "visibility": null,
            "width": null
          }
        },
        "2fdc46321df94ffaa27336b718d6a3db": {
          "model_module": "@jupyter-widgets/controls",
          "model_module_version": "1.5.0",
          "model_name": "HTMLModel",
          "state": {
            "_dom_classes": [],
            "_model_module": "@jupyter-widgets/controls",
            "_model_module_version": "1.5.0",
            "_model_name": "HTMLModel",
            "_view_count": null,
            "_view_module": "@jupyter-widgets/controls",
            "_view_module_version": "1.5.0",
            "_view_name": "HTMLView",
            "description": "",
            "description_tooltip": null,
            "layout": "IPY_MODEL_3692d7c318164241908205c8e3774e2e",
            "placeholder": "​",
            "style": "IPY_MODEL_b4a19a4b2a644305b9684689c7ea218e",
            "value": " 608/608 [00:00&lt;00:00, 54.3kB/s]"
          }
        },
        "31a80ad3273b4a77a287016feba2fe3a": {
          "model_module": "@jupyter-widgets/controls",
          "model_module_version": "1.5.0",
          "model_name": "DescriptionStyleModel",
          "state": {
            "_model_module": "@jupyter-widgets/controls",
            "_model_module_version": "1.5.0",
            "_model_name": "DescriptionStyleModel",
            "_view_count": null,
            "_view_module": "@jupyter-widgets/base",
            "_view_module_version": "1.2.0",
            "_view_name": "StyleView",
            "description_width": ""
          }
        },
        "322475d67add45359ea48607e876a4fd": {
          "model_module": "@jupyter-widgets/controls",
          "model_module_version": "1.5.0",
          "model_name": "HTMLModel",
          "state": {
            "_dom_classes": [],
            "_model_module": "@jupyter-widgets/controls",
            "_model_module_version": "1.5.0",
            "_model_name": "HTMLModel",
            "_view_count": null,
            "_view_module": "@jupyter-widgets/controls",
            "_view_module_version": "1.5.0",
            "_view_name": "HTMLView",
            "description": "",
            "description_tooltip": null,
            "layout": "IPY_MODEL_5db943cca699414588be206b23fd33be",
            "placeholder": "​",
            "style": "IPY_MODEL_d58ac24302304f2d92c609dc13865b54",
            "value": " 500k/500k [00:00&lt;00:00, 900kB/s]"
          }
        },
        "32f97607ad1742829080594ff450ee54": {
          "model_module": "@jupyter-widgets/controls",
          "model_module_version": "1.5.0",
          "model_name": "HTMLModel",
          "state": {
            "_dom_classes": [],
            "_model_module": "@jupyter-widgets/controls",
            "_model_module_version": "1.5.0",
            "_model_name": "HTMLModel",
            "_view_count": null,
            "_view_module": "@jupyter-widgets/controls",
            "_view_module_version": "1.5.0",
            "_view_name": "HTMLView",
            "description": "",
            "description_tooltip": null,
            "layout": "IPY_MODEL_69637bd2aeb148059dc91e64cde55451",
            "placeholder": "​",
            "style": "IPY_MODEL_46d5f3965b0b49a095cd6723e412b1a8",
            "value": "model.safetensors: 100%"
          }
        },
        "34d1dedad22a4be68cf734d1de383e23": {
          "model_module": "@jupyter-widgets/base",
          "model_module_version": "1.2.0",
          "model_name": "LayoutModel",
          "state": {
            "_model_module": "@jupyter-widgets/base",
            "_model_module_version": "1.2.0",
            "_model_name": "LayoutModel",
            "_view_count": null,
            "_view_module": "@jupyter-widgets/base",
            "_view_module_version": "1.2.0",
            "_view_name": "LayoutView",
            "align_content": null,
            "align_items": null,
            "align_self": null,
            "border": null,
            "bottom": null,
            "display": null,
            "flex": null,
            "flex_flow": null,
            "grid_area": null,
            "grid_auto_columns": null,
            "grid_auto_flow": null,
            "grid_auto_rows": null,
            "grid_column": null,
            "grid_gap": null,
            "grid_row": null,
            "grid_template_areas": null,
            "grid_template_columns": null,
            "grid_template_rows": null,
            "height": null,
            "justify_content": null,
            "justify_items": null,
            "left": null,
            "margin": null,
            "max_height": null,
            "max_width": null,
            "min_height": null,
            "min_width": null,
            "object_fit": null,
            "object_position": null,
            "order": null,
            "overflow": null,
            "overflow_x": null,
            "overflow_y": null,
            "padding": null,
            "right": null,
            "top": null,
            "visibility": null,
            "width": null
          }
        },
        "35748da9eed34f28a6223d2d9ee6d517": {
          "model_module": "@jupyter-widgets/controls",
          "model_module_version": "1.5.0",
          "model_name": "HTMLModel",
          "state": {
            "_dom_classes": [],
            "_model_module": "@jupyter-widgets/controls",
            "_model_module_version": "1.5.0",
            "_model_name": "HTMLModel",
            "_view_count": null,
            "_view_module": "@jupyter-widgets/controls",
            "_view_module_version": "1.5.0",
            "_view_name": "HTMLView",
            "description": "",
            "description_tooltip": null,
            "layout": "IPY_MODEL_0181ad1c65f948c295247d2e42ffdeca",
            "placeholder": "​",
            "style": "IPY_MODEL_6a59c6374c3f4030a05eab91535c7323",
            "value": " 1.84M/? [00:00&lt;00:00, 6.83MB/s]"
          }
        },
        "35bee9efeb8440e58f432eb41e74b7ff": {
          "model_module": "@jupyter-widgets/controls",
          "model_module_version": "1.5.0",
          "model_name": "HBoxModel",
          "state": {
            "_dom_classes": [],
            "_model_module": "@jupyter-widgets/controls",
            "_model_module_version": "1.5.0",
            "_model_name": "HBoxModel",
            "_view_count": null,
            "_view_module": "@jupyter-widgets/controls",
            "_view_module_version": "1.5.0",
            "_view_name": "HBoxView",
            "box_style": "",
            "children": [
              "IPY_MODEL_38b7b0924fa94684899805950b793fd0",
              "IPY_MODEL_d06ea0911cf240799c187ab9c83de00c",
              "IPY_MODEL_322475d67add45359ea48607e876a4fd"
            ],
            "layout": "IPY_MODEL_66d17a227e7d499c87cb5f547b75f6a1"
          }
        },
        "365f320db9e44e598f98c0fa264000f5": {
          "model_module": "@jupyter-widgets/controls",
          "model_module_version": "1.5.0",
          "model_name": "ProgressStyleModel",
          "state": {
            "_model_module": "@jupyter-widgets/controls",
            "_model_module_version": "1.5.0",
            "_model_name": "ProgressStyleModel",
            "_view_count": null,
            "_view_module": "@jupyter-widgets/base",
            "_view_module_version": "1.2.0",
            "_view_name": "StyleView",
            "bar_color": null,
            "description_width": ""
          }
        },
        "367429f74964473a9f97e20d22f59e50": {
          "model_module": "@jupyter-widgets/base",
          "model_module_version": "1.2.0",
          "model_name": "LayoutModel",
          "state": {
            "_model_module": "@jupyter-widgets/base",
            "_model_module_version": "1.2.0",
            "_model_name": "LayoutModel",
            "_view_count": null,
            "_view_module": "@jupyter-widgets/base",
            "_view_module_version": "1.2.0",
            "_view_name": "LayoutView",
            "align_content": null,
            "align_items": null,
            "align_self": null,
            "border": null,
            "bottom": null,
            "display": null,
            "flex": null,
            "flex_flow": null,
            "grid_area": null,
            "grid_auto_columns": null,
            "grid_auto_flow": null,
            "grid_auto_rows": null,
            "grid_column": null,
            "grid_gap": null,
            "grid_row": null,
            "grid_template_areas": null,
            "grid_template_columns": null,
            "grid_template_rows": null,
            "height": null,
            "justify_content": null,
            "justify_items": null,
            "left": null,
            "margin": null,
            "max_height": null,
            "max_width": null,
            "min_height": null,
            "min_width": null,
            "object_fit": null,
            "object_position": null,
            "order": null,
            "overflow": null,
            "overflow_x": null,
            "overflow_y": null,
            "padding": null,
            "right": null,
            "top": null,
            "visibility": null,
            "width": null
          }
        },
        "3692d7c318164241908205c8e3774e2e": {
          "model_module": "@jupyter-widgets/base",
          "model_module_version": "1.2.0",
          "model_name": "LayoutModel",
          "state": {
            "_model_module": "@jupyter-widgets/base",
            "_model_module_version": "1.2.0",
            "_model_name": "LayoutModel",
            "_view_count": null,
            "_view_module": "@jupyter-widgets/base",
            "_view_module_version": "1.2.0",
            "_view_name": "LayoutView",
            "align_content": null,
            "align_items": null,
            "align_self": null,
            "border": null,
            "bottom": null,
            "display": null,
            "flex": null,
            "flex_flow": null,
            "grid_area": null,
            "grid_auto_columns": null,
            "grid_auto_flow": null,
            "grid_auto_rows": null,
            "grid_column": null,
            "grid_gap": null,
            "grid_row": null,
            "grid_template_areas": null,
            "grid_template_columns": null,
            "grid_template_rows": null,
            "height": null,
            "justify_content": null,
            "justify_items": null,
            "left": null,
            "margin": null,
            "max_height": null,
            "max_width": null,
            "min_height": null,
            "min_width": null,
            "object_fit": null,
            "object_position": null,
            "order": null,
            "overflow": null,
            "overflow_x": null,
            "overflow_y": null,
            "padding": null,
            "right": null,
            "top": null,
            "visibility": null,
            "width": null
          }
        },
        "372bcd11729742e4821866522eff0ab2": {
          "model_module": "@jupyter-widgets/base",
          "model_module_version": "1.2.0",
          "model_name": "LayoutModel",
          "state": {
            "_model_module": "@jupyter-widgets/base",
            "_model_module_version": "1.2.0",
            "_model_name": "LayoutModel",
            "_view_count": null,
            "_view_module": "@jupyter-widgets/base",
            "_view_module_version": "1.2.0",
            "_view_name": "LayoutView",
            "align_content": null,
            "align_items": null,
            "align_self": null,
            "border": null,
            "bottom": null,
            "display": null,
            "flex": null,
            "flex_flow": null,
            "grid_area": null,
            "grid_auto_columns": null,
            "grid_auto_flow": null,
            "grid_auto_rows": null,
            "grid_column": null,
            "grid_gap": null,
            "grid_row": null,
            "grid_template_areas": null,
            "grid_template_columns": null,
            "grid_template_rows": null,
            "height": null,
            "justify_content": null,
            "justify_items": null,
            "left": null,
            "margin": null,
            "max_height": null,
            "max_width": null,
            "min_height": null,
            "min_width": null,
            "object_fit": null,
            "object_position": null,
            "order": null,
            "overflow": null,
            "overflow_x": null,
            "overflow_y": null,
            "padding": null,
            "right": null,
            "top": null,
            "visibility": null,
            "width": null
          }
        },
        "38b7b0924fa94684899805950b793fd0": {
          "model_module": "@jupyter-widgets/controls",
          "model_module_version": "1.5.0",
          "model_name": "HTMLModel",
          "state": {
            "_dom_classes": [],
            "_model_module": "@jupyter-widgets/controls",
            "_model_module_version": "1.5.0",
            "_model_name": "HTMLModel",
            "_view_count": null,
            "_view_module": "@jupyter-widgets/controls",
            "_view_module_version": "1.5.0",
            "_view_name": "HTMLView",
            "description": "",
            "description_tooltip": null,
            "layout": "IPY_MODEL_8dfa319781ce40449cc2be816fe55c7f",
            "placeholder": "​",
            "style": "IPY_MODEL_31a80ad3273b4a77a287016feba2fe3a",
            "value": "tokenizer.model: 100%"
          }
        },
        "3aa4d954ed954d03bdc0307bdeacd089": {
          "model_module": "@jupyter-widgets/controls",
          "model_module_version": "1.5.0",
          "model_name": "HTMLModel",
          "state": {
            "_dom_classes": [],
            "_model_module": "@jupyter-widgets/controls",
            "_model_module_version": "1.5.0",
            "_model_name": "HTMLModel",
            "_view_count": null,
            "_view_module": "@jupyter-widgets/controls",
            "_view_module_version": "1.5.0",
            "_view_name": "HTMLView",
            "description": "",
            "description_tooltip": null,
            "layout": "IPY_MODEL_dd590266d79e4a789c8a299d933744c3",
            "placeholder": "​",
            "style": "IPY_MODEL_192a24afa0ca400da038d19628dba674",
            "value": " 124/124 [00:00&lt;00:00, 14.6kB/s]"
          }
        },
        "40f321d66c5c4247876edc7a612d2211": {
          "model_module": "@jupyter-widgets/controls",
          "model_module_version": "1.5.0",
          "model_name": "FloatProgressModel",
          "state": {
            "_dom_classes": [],
            "_model_module": "@jupyter-widgets/controls",
            "_model_module_version": "1.5.0",
            "_model_name": "FloatProgressModel",
            "_view_count": null,
            "_view_module": "@jupyter-widgets/controls",
            "_view_module_version": "1.5.0",
            "_view_name": "ProgressView",
            "bar_style": "success",
            "description": "",
            "description_tooltip": null,
            "layout": "IPY_MODEL_c2719b72fd4e403eb3c7373ce9eba602",
            "max": 608,
            "min": 0,
            "orientation": "horizontal",
            "style": "IPY_MODEL_365f320db9e44e598f98c0fa264000f5",
            "value": 608
          }
        },
        "417aa2b24ec942c2bd88fcc71d0c8b44": {
          "model_module": "@jupyter-widgets/base",
          "model_module_version": "1.2.0",
          "model_name": "LayoutModel",
          "state": {
            "_model_module": "@jupyter-widgets/base",
            "_model_module_version": "1.2.0",
            "_model_name": "LayoutModel",
            "_view_count": null,
            "_view_module": "@jupyter-widgets/base",
            "_view_module_version": "1.2.0",
            "_view_name": "LayoutView",
            "align_content": null,
            "align_items": null,
            "align_self": null,
            "border": null,
            "bottom": null,
            "display": null,
            "flex": null,
            "flex_flow": null,
            "grid_area": null,
            "grid_auto_columns": null,
            "grid_auto_flow": null,
            "grid_auto_rows": null,
            "grid_column": null,
            "grid_gap": null,
            "grid_row": null,
            "grid_template_areas": null,
            "grid_template_columns": null,
            "grid_template_rows": null,
            "height": null,
            "justify_content": null,
            "justify_items": null,
            "left": null,
            "margin": null,
            "max_height": null,
            "max_width": null,
            "min_height": null,
            "min_width": null,
            "object_fit": null,
            "object_position": null,
            "order": null,
            "overflow": null,
            "overflow_x": null,
            "overflow_y": null,
            "padding": null,
            "right": null,
            "top": null,
            "visibility": null,
            "width": null
          }
        },
        "43ee4fc2fa724587b3a957d76b682271": {
          "model_module": "@jupyter-widgets/controls",
          "model_module_version": "1.5.0",
          "model_name": "HTMLModel",
          "state": {
            "_dom_classes": [],
            "_model_module": "@jupyter-widgets/controls",
            "_model_module_version": "1.5.0",
            "_model_name": "HTMLModel",
            "_view_count": null,
            "_view_module": "@jupyter-widgets/controls",
            "_view_module_version": "1.5.0",
            "_view_name": "HTMLView",
            "description": "",
            "description_tooltip": null,
            "layout": "IPY_MODEL_090d0590643d41bebd9fb25e5cc434df",
            "placeholder": "​",
            "style": "IPY_MODEL_7d3d0d5f00b3435b8342ae608e087819",
            "value": " 551/551 [00:00&lt;00:00, 64.1kB/s]"
          }
        },
        "46d5f3965b0b49a095cd6723e412b1a8": {
          "model_module": "@jupyter-widgets/controls",
          "model_module_version": "1.5.0",
          "model_name": "DescriptionStyleModel",
          "state": {
            "_model_module": "@jupyter-widgets/controls",
            "_model_module_version": "1.5.0",
            "_model_name": "DescriptionStyleModel",
            "_view_count": null,
            "_view_module": "@jupyter-widgets/base",
            "_view_module_version": "1.2.0",
            "_view_name": "StyleView",
            "description_width": ""
          }
        },
        "4915882d46c349f99688efb008e9368c": {
          "model_module": "@jupyter-widgets/controls",
          "model_module_version": "1.5.0",
          "model_name": "HTMLModel",
          "state": {
            "_dom_classes": [],
            "_model_module": "@jupyter-widgets/controls",
            "_model_module_version": "1.5.0",
            "_model_name": "HTMLModel",
            "_view_count": null,
            "_view_module": "@jupyter-widgets/controls",
            "_view_module_version": "1.5.0",
            "_view_name": "HTMLView",
            "description": "",
            "description_tooltip": null,
            "layout": "IPY_MODEL_2f8372b18c684e5894a0c007436ad8c8",
            "placeholder": "​",
            "style": "IPY_MODEL_b3496b1088c049b192cbcab832109278",
            "value": "config.json: 100%"
          }
        },
        "4a43b6ab4e624da1887ae8d902cee8ad": {
          "model_module": "@jupyter-widgets/controls",
          "model_module_version": "1.5.0",
          "model_name": "HTMLModel",
          "state": {
            "_dom_classes": [],
            "_model_module": "@jupyter-widgets/controls",
            "_model_module_version": "1.5.0",
            "_model_name": "HTMLModel",
            "_view_count": null,
            "_view_module": "@jupyter-widgets/controls",
            "_view_module_version": "1.5.0",
            "_view_name": "HTMLView",
            "description": "",
            "description_tooltip": null,
            "layout": "IPY_MODEL_34d1dedad22a4be68cf734d1de383e23",
            "placeholder": "​",
            "style": "IPY_MODEL_8558f66db746457cab0e153530dc515e",
            "value": " 1.29k/? [00:00&lt;00:00, 78.0kB/s]"
          }
        },
        "4adecd0dde414520b44ec3a22c625f41": {
          "model_module": "@jupyter-widgets/base",
          "model_module_version": "1.2.0",
          "model_name": "LayoutModel",
          "state": {
            "_model_module": "@jupyter-widgets/base",
            "_model_module_version": "1.2.0",
            "_model_name": "LayoutModel",
            "_view_count": null,
            "_view_module": "@jupyter-widgets/base",
            "_view_module_version": "1.2.0",
            "_view_name": "LayoutView",
            "align_content": null,
            "align_items": null,
            "align_self": null,
            "border": null,
            "bottom": null,
            "display": null,
            "flex": null,
            "flex_flow": null,
            "grid_area": null,
            "grid_auto_columns": null,
            "grid_auto_flow": null,
            "grid_auto_rows": null,
            "grid_column": null,
            "grid_gap": null,
            "grid_row": null,
            "grid_template_areas": null,
            "grid_template_columns": null,
            "grid_template_rows": null,
            "height": null,
            "justify_content": null,
            "justify_items": null,
            "left": null,
            "margin": null,
            "max_height": null,
            "max_width": null,
            "min_height": null,
            "min_width": null,
            "object_fit": null,
            "object_position": null,
            "order": null,
            "overflow": null,
            "overflow_x": null,
            "overflow_y": null,
            "padding": null,
            "right": null,
            "top": null,
            "visibility": null,
            "width": null
          }
        },
        "4cc06b03c3654f078db1be36ad8eca1e": {
          "model_module": "@jupyter-widgets/controls",
          "model_module_version": "1.5.0",
          "model_name": "FloatProgressModel",
          "state": {
            "_dom_classes": [],
            "_model_module": "@jupyter-widgets/controls",
            "_model_module_version": "1.5.0",
            "_model_name": "FloatProgressModel",
            "_view_count": null,
            "_view_module": "@jupyter-widgets/controls",
            "_view_module_version": "1.5.0",
            "_view_name": "ProgressView",
            "bar_style": "success",
            "description": "",
            "description_tooltip": null,
            "layout": "IPY_MODEL_4e9e347cab904a05bf910ef373492171",
            "max": 551,
            "min": 0,
            "orientation": "horizontal",
            "style": "IPY_MODEL_6d19372324cf4b048fb5939ed57fa57f",
            "value": 551
          }
        },
        "4d7a8e3eebb64a8e964861c5e7a7a559": {
          "model_module": "@jupyter-widgets/base",
          "model_module_version": "1.2.0",
          "model_name": "LayoutModel",
          "state": {
            "_model_module": "@jupyter-widgets/base",
            "_model_module_version": "1.2.0",
            "_model_name": "LayoutModel",
            "_view_count": null,
            "_view_module": "@jupyter-widgets/base",
            "_view_module_version": "1.2.0",
            "_view_name": "LayoutView",
            "align_content": null,
            "align_items": null,
            "align_self": null,
            "border": null,
            "bottom": null,
            "display": null,
            "flex": null,
            "flex_flow": null,
            "grid_area": null,
            "grid_auto_columns": null,
            "grid_auto_flow": null,
            "grid_auto_rows": null,
            "grid_column": null,
            "grid_gap": null,
            "grid_row": null,
            "grid_template_areas": null,
            "grid_template_columns": null,
            "grid_template_rows": null,
            "height": null,
            "justify_content": null,
            "justify_items": null,
            "left": null,
            "margin": null,
            "max_height": null,
            "max_width": null,
            "min_height": null,
            "min_width": null,
            "object_fit": null,
            "object_position": null,
            "order": null,
            "overflow": null,
            "overflow_x": null,
            "overflow_y": null,
            "padding": null,
            "right": null,
            "top": null,
            "visibility": null,
            "width": null
          }
        },
        "4de137240b9345d9b60166ecd555a1b3": {
          "model_module": "@jupyter-widgets/controls",
          "model_module_version": "1.5.0",
          "model_name": "HTMLModel",
          "state": {
            "_dom_classes": [],
            "_model_module": "@jupyter-widgets/controls",
            "_model_module_version": "1.5.0",
            "_model_name": "HTMLModel",
            "_view_count": null,
            "_view_module": "@jupyter-widgets/controls",
            "_view_module_version": "1.5.0",
            "_view_name": "HTMLView",
            "description": "",
            "description_tooltip": null,
            "layout": "IPY_MODEL_a8c03e40beb94a9197d44a2019a277b3",
            "placeholder": "​",
            "style": "IPY_MODEL_c8cebe6134d44b1cab4515553b199063",
            "value": " 2.20G/2.20G [00:47&lt;00:00, 24.4MB/s]"
          }
        },
        "4e9e347cab904a05bf910ef373492171": {
          "model_module": "@jupyter-widgets/base",
          "model_module_version": "1.2.0",
          "model_name": "LayoutModel",
          "state": {
            "_model_module": "@jupyter-widgets/base",
            "_model_module_version": "1.2.0",
            "_model_name": "LayoutModel",
            "_view_count": null,
            "_view_module": "@jupyter-widgets/base",
            "_view_module_version": "1.2.0",
            "_view_name": "LayoutView",
            "align_content": null,
            "align_items": null,
            "align_self": null,
            "border": null,
            "bottom": null,
            "display": null,
            "flex": null,
            "flex_flow": null,
            "grid_area": null,
            "grid_auto_columns": null,
            "grid_auto_flow": null,
            "grid_auto_rows": null,
            "grid_column": null,
            "grid_gap": null,
            "grid_row": null,
            "grid_template_areas": null,
            "grid_template_columns": null,
            "grid_template_rows": null,
            "height": null,
            "justify_content": null,
            "justify_items": null,
            "left": null,
            "margin": null,
            "max_height": null,
            "max_width": null,
            "min_height": null,
            "min_width": null,
            "object_fit": null,
            "object_position": null,
            "order": null,
            "overflow": null,
            "overflow_x": null,
            "overflow_y": null,
            "padding": null,
            "right": null,
            "top": null,
            "visibility": null,
            "width": null
          }
        },
        "57ab4cbc60614335ad6d925ba3544b21": {
          "model_module": "@jupyter-widgets/controls",
          "model_module_version": "1.5.0",
          "model_name": "DescriptionStyleModel",
          "state": {
            "_model_module": "@jupyter-widgets/controls",
            "_model_module_version": "1.5.0",
            "_model_name": "DescriptionStyleModel",
            "_view_count": null,
            "_view_module": "@jupyter-widgets/base",
            "_view_module_version": "1.2.0",
            "_view_name": "StyleView",
            "description_width": ""
          }
        },
        "58744a5ad6d8433a8f110cd682665653": {
          "model_module": "@jupyter-widgets/controls",
          "model_module_version": "1.5.0",
          "model_name": "HBoxModel",
          "state": {
            "_dom_classes": [],
            "_model_module": "@jupyter-widgets/controls",
            "_model_module_version": "1.5.0",
            "_model_name": "HBoxModel",
            "_view_count": null,
            "_view_module": "@jupyter-widgets/controls",
            "_view_module_version": "1.5.0",
            "_view_name": "HBoxView",
            "box_style": "",
            "children": [
              "IPY_MODEL_4915882d46c349f99688efb008e9368c",
              "IPY_MODEL_40f321d66c5c4247876edc7a612d2211",
              "IPY_MODEL_2fdc46321df94ffaa27336b718d6a3db"
            ],
            "layout": "IPY_MODEL_f01446b29e5a42619bec97a6871ee26f"
          }
        },
        "5bc55de450b14059b4e456fd68682c61": {
          "model_module": "@jupyter-widgets/controls",
          "model_module_version": "1.5.0",
          "model_name": "HBoxModel",
          "state": {
            "_dom_classes": [],
            "_model_module": "@jupyter-widgets/controls",
            "_model_module_version": "1.5.0",
            "_model_name": "HBoxModel",
            "_view_count": null,
            "_view_module": "@jupyter-widgets/controls",
            "_view_module_version": "1.5.0",
            "_view_name": "HBoxView",
            "box_style": "",
            "children": [
              "IPY_MODEL_cb5f148bdf9c4ee1a6224a7e4a91d62d",
              "IPY_MODEL_ef83cfdae421451d80ba0be7c59701ed",
              "IPY_MODEL_3aa4d954ed954d03bdc0307bdeacd089"
            ],
            "layout": "IPY_MODEL_71dbaf340b4e4a4f81dff961837a0aa1"
          }
        },
        "5db943cca699414588be206b23fd33be": {
          "model_module": "@jupyter-widgets/base",
          "model_module_version": "1.2.0",
          "model_name": "LayoutModel",
          "state": {
            "_model_module": "@jupyter-widgets/base",
            "_model_module_version": "1.2.0",
            "_model_name": "LayoutModel",
            "_view_count": null,
            "_view_module": "@jupyter-widgets/base",
            "_view_module_version": "1.2.0",
            "_view_name": "LayoutView",
            "align_content": null,
            "align_items": null,
            "align_self": null,
            "border": null,
            "bottom": null,
            "display": null,
            "flex": null,
            "flex_flow": null,
            "grid_area": null,
            "grid_auto_columns": null,
            "grid_auto_flow": null,
            "grid_auto_rows": null,
            "grid_column": null,
            "grid_gap": null,
            "grid_row": null,
            "grid_template_areas": null,
            "grid_template_columns": null,
            "grid_template_rows": null,
            "height": null,
            "justify_content": null,
            "justify_items": null,
            "left": null,
            "margin": null,
            "max_height": null,
            "max_width": null,
            "min_height": null,
            "min_width": null,
            "object_fit": null,
            "object_position": null,
            "order": null,
            "overflow": null,
            "overflow_x": null,
            "overflow_y": null,
            "padding": null,
            "right": null,
            "top": null,
            "visibility": null,
            "width": null
          }
        },
        "61cd102861354bb08913c6936156ef8a": {
          "model_module": "@jupyter-widgets/controls",
          "model_module_version": "1.5.0",
          "model_name": "ProgressStyleModel",
          "state": {
            "_model_module": "@jupyter-widgets/controls",
            "_model_module_version": "1.5.0",
            "_model_name": "ProgressStyleModel",
            "_view_count": null,
            "_view_module": "@jupyter-widgets/base",
            "_view_module_version": "1.2.0",
            "_view_name": "StyleView",
            "bar_color": null,
            "description_width": ""
          }
        },
        "66d17a227e7d499c87cb5f547b75f6a1": {
          "model_module": "@jupyter-widgets/base",
          "model_module_version": "1.2.0",
          "model_name": "LayoutModel",
          "state": {
            "_model_module": "@jupyter-widgets/base",
            "_model_module_version": "1.2.0",
            "_model_name": "LayoutModel",
            "_view_count": null,
            "_view_module": "@jupyter-widgets/base",
            "_view_module_version": "1.2.0",
            "_view_name": "LayoutView",
            "align_content": null,
            "align_items": null,
            "align_self": null,
            "border": null,
            "bottom": null,
            "display": null,
            "flex": null,
            "flex_flow": null,
            "grid_area": null,
            "grid_auto_columns": null,
            "grid_auto_flow": null,
            "grid_auto_rows": null,
            "grid_column": null,
            "grid_gap": null,
            "grid_row": null,
            "grid_template_areas": null,
            "grid_template_columns": null,
            "grid_template_rows": null,
            "height": null,
            "justify_content": null,
            "justify_items": null,
            "left": null,
            "margin": null,
            "max_height": null,
            "max_width": null,
            "min_height": null,
            "min_width": null,
            "object_fit": null,
            "object_position": null,
            "order": null,
            "overflow": null,
            "overflow_x": null,
            "overflow_y": null,
            "padding": null,
            "right": null,
            "top": null,
            "visibility": null,
            "width": null
          }
        },
        "679b221adf6c4a0d8a61c952fbfddb4b": {
          "model_module": "@jupyter-widgets/controls",
          "model_module_version": "1.5.0",
          "model_name": "ProgressStyleModel",
          "state": {
            "_model_module": "@jupyter-widgets/controls",
            "_model_module_version": "1.5.0",
            "_model_name": "ProgressStyleModel",
            "_view_count": null,
            "_view_module": "@jupyter-widgets/base",
            "_view_module_version": "1.2.0",
            "_view_name": "StyleView",
            "bar_color": null,
            "description_width": ""
          }
        },
        "69637bd2aeb148059dc91e64cde55451": {
          "model_module": "@jupyter-widgets/base",
          "model_module_version": "1.2.0",
          "model_name": "LayoutModel",
          "state": {
            "_model_module": "@jupyter-widgets/base",
            "_model_module_version": "1.2.0",
            "_model_name": "LayoutModel",
            "_view_count": null,
            "_view_module": "@jupyter-widgets/base",
            "_view_module_version": "1.2.0",
            "_view_name": "LayoutView",
            "align_content": null,
            "align_items": null,
            "align_self": null,
            "border": null,
            "bottom": null,
            "display": null,
            "flex": null,
            "flex_flow": null,
            "grid_area": null,
            "grid_auto_columns": null,
            "grid_auto_flow": null,
            "grid_auto_rows": null,
            "grid_column": null,
            "grid_gap": null,
            "grid_row": null,
            "grid_template_areas": null,
            "grid_template_columns": null,
            "grid_template_rows": null,
            "height": null,
            "justify_content": null,
            "justify_items": null,
            "left": null,
            "margin": null,
            "max_height": null,
            "max_width": null,
            "min_height": null,
            "min_width": null,
            "object_fit": null,
            "object_position": null,
            "order": null,
            "overflow": null,
            "overflow_x": null,
            "overflow_y": null,
            "padding": null,
            "right": null,
            "top": null,
            "visibility": null,
            "width": null
          }
        },
        "6a59c6374c3f4030a05eab91535c7323": {
          "model_module": "@jupyter-widgets/controls",
          "model_module_version": "1.5.0",
          "model_name": "DescriptionStyleModel",
          "state": {
            "_model_module": "@jupyter-widgets/controls",
            "_model_module_version": "1.5.0",
            "_model_name": "DescriptionStyleModel",
            "_view_count": null,
            "_view_module": "@jupyter-widgets/base",
            "_view_module_version": "1.2.0",
            "_view_name": "StyleView",
            "description_width": ""
          }
        },
        "6d19372324cf4b048fb5939ed57fa57f": {
          "model_module": "@jupyter-widgets/controls",
          "model_module_version": "1.5.0",
          "model_name": "ProgressStyleModel",
          "state": {
            "_model_module": "@jupyter-widgets/controls",
            "_model_module_version": "1.5.0",
            "_model_name": "ProgressStyleModel",
            "_view_count": null,
            "_view_module": "@jupyter-widgets/base",
            "_view_module_version": "1.2.0",
            "_view_name": "StyleView",
            "bar_color": null,
            "description_width": ""
          }
        },
        "71dbaf340b4e4a4f81dff961837a0aa1": {
          "model_module": "@jupyter-widgets/base",
          "model_module_version": "1.2.0",
          "model_name": "LayoutModel",
          "state": {
            "_model_module": "@jupyter-widgets/base",
            "_model_module_version": "1.2.0",
            "_model_name": "LayoutModel",
            "_view_count": null,
            "_view_module": "@jupyter-widgets/base",
            "_view_module_version": "1.2.0",
            "_view_name": "LayoutView",
            "align_content": null,
            "align_items": null,
            "align_self": null,
            "border": null,
            "bottom": null,
            "display": null,
            "flex": null,
            "flex_flow": null,
            "grid_area": null,
            "grid_auto_columns": null,
            "grid_auto_flow": null,
            "grid_auto_rows": null,
            "grid_column": null,
            "grid_gap": null,
            "grid_row": null,
            "grid_template_areas": null,
            "grid_template_columns": null,
            "grid_template_rows": null,
            "height": null,
            "justify_content": null,
            "justify_items": null,
            "left": null,
            "margin": null,
            "max_height": null,
            "max_width": null,
            "min_height": null,
            "min_width": null,
            "object_fit": null,
            "object_position": null,
            "order": null,
            "overflow": null,
            "overflow_x": null,
            "overflow_y": null,
            "padding": null,
            "right": null,
            "top": null,
            "visibility": null,
            "width": null
          }
        },
        "7544020aceab4508b93a30e5d21ebcd1": {
          "model_module": "@jupyter-widgets/controls",
          "model_module_version": "1.5.0",
          "model_name": "DescriptionStyleModel",
          "state": {
            "_model_module": "@jupyter-widgets/controls",
            "_model_module_version": "1.5.0",
            "_model_name": "DescriptionStyleModel",
            "_view_count": null,
            "_view_module": "@jupyter-widgets/base",
            "_view_module_version": "1.2.0",
            "_view_name": "StyleView",
            "description_width": ""
          }
        },
        "7d3d0d5f00b3435b8342ae608e087819": {
          "model_module": "@jupyter-widgets/controls",
          "model_module_version": "1.5.0",
          "model_name": "DescriptionStyleModel",
          "state": {
            "_model_module": "@jupyter-widgets/controls",
            "_model_module_version": "1.5.0",
            "_model_name": "DescriptionStyleModel",
            "_view_count": null,
            "_view_module": "@jupyter-widgets/base",
            "_view_module_version": "1.2.0",
            "_view_name": "StyleView",
            "description_width": ""
          }
        },
        "8558f66db746457cab0e153530dc515e": {
          "model_module": "@jupyter-widgets/controls",
          "model_module_version": "1.5.0",
          "model_name": "DescriptionStyleModel",
          "state": {
            "_model_module": "@jupyter-widgets/controls",
            "_model_module_version": "1.5.0",
            "_model_name": "DescriptionStyleModel",
            "_view_count": null,
            "_view_module": "@jupyter-widgets/base",
            "_view_module_version": "1.2.0",
            "_view_name": "StyleView",
            "description_width": ""
          }
        },
        "8dfa319781ce40449cc2be816fe55c7f": {
          "model_module": "@jupyter-widgets/base",
          "model_module_version": "1.2.0",
          "model_name": "LayoutModel",
          "state": {
            "_model_module": "@jupyter-widgets/base",
            "_model_module_version": "1.2.0",
            "_model_name": "LayoutModel",
            "_view_count": null,
            "_view_module": "@jupyter-widgets/base",
            "_view_module_version": "1.2.0",
            "_view_name": "LayoutView",
            "align_content": null,
            "align_items": null,
            "align_self": null,
            "border": null,
            "bottom": null,
            "display": null,
            "flex": null,
            "flex_flow": null,
            "grid_area": null,
            "grid_auto_columns": null,
            "grid_auto_flow": null,
            "grid_auto_rows": null,
            "grid_column": null,
            "grid_gap": null,
            "grid_row": null,
            "grid_template_areas": null,
            "grid_template_columns": null,
            "grid_template_rows": null,
            "height": null,
            "justify_content": null,
            "justify_items": null,
            "left": null,
            "margin": null,
            "max_height": null,
            "max_width": null,
            "min_height": null,
            "min_width": null,
            "object_fit": null,
            "object_position": null,
            "order": null,
            "overflow": null,
            "overflow_x": null,
            "overflow_y": null,
            "padding": null,
            "right": null,
            "top": null,
            "visibility": null,
            "width": null
          }
        },
        "8e94d6b7789e42708cad9c097b7f7fee": {
          "model_module": "@jupyter-widgets/controls",
          "model_module_version": "1.5.0",
          "model_name": "FloatProgressModel",
          "state": {
            "_dom_classes": [],
            "_model_module": "@jupyter-widgets/controls",
            "_model_module_version": "1.5.0",
            "_model_name": "FloatProgressModel",
            "_view_count": null,
            "_view_module": "@jupyter-widgets/controls",
            "_view_module_version": "1.5.0",
            "_view_name": "ProgressView",
            "bar_style": "success",
            "description": "",
            "description_tooltip": null,
            "layout": "IPY_MODEL_c75e2f1325bb466a969712901b92a2a4",
            "max": 1,
            "min": 0,
            "orientation": "horizontal",
            "style": "IPY_MODEL_679b221adf6c4a0d8a61c952fbfddb4b",
            "value": 1
          }
        },
        "8f67a7bd774641cb8f0da52d04c78ac1": {
          "model_module": "@jupyter-widgets/controls",
          "model_module_version": "1.5.0",
          "model_name": "HTMLModel",
          "state": {
            "_dom_classes": [],
            "_model_module": "@jupyter-widgets/controls",
            "_model_module_version": "1.5.0",
            "_model_name": "HTMLModel",
            "_view_count": null,
            "_view_module": "@jupyter-widgets/controls",
            "_view_module_version": "1.5.0",
            "_view_name": "HTMLView",
            "description": "",
            "description_tooltip": null,
            "layout": "IPY_MODEL_901d798a4ef4406b93a15cfe1a99dc13",
            "placeholder": "​",
            "style": "IPY_MODEL_7544020aceab4508b93a30e5d21ebcd1",
            "value": "tokenizer_config.json: "
          }
        },
        "901d798a4ef4406b93a15cfe1a99dc13": {
          "model_module": "@jupyter-widgets/base",
          "model_module_version": "1.2.0",
          "model_name": "LayoutModel",
          "state": {
            "_model_module": "@jupyter-widgets/base",
            "_model_module_version": "1.2.0",
            "_model_name": "LayoutModel",
            "_view_count": null,
            "_view_module": "@jupyter-widgets/base",
            "_view_module_version": "1.2.0",
            "_view_name": "LayoutView",
            "align_content": null,
            "align_items": null,
            "align_self": null,
            "border": null,
            "bottom": null,
            "display": null,
            "flex": null,
            "flex_flow": null,
            "grid_area": null,
            "grid_auto_columns": null,
            "grid_auto_flow": null,
            "grid_auto_rows": null,
            "grid_column": null,
            "grid_gap": null,
            "grid_row": null,
            "grid_template_areas": null,
            "grid_template_columns": null,
            "grid_template_rows": null,
            "height": null,
            "justify_content": null,
            "justify_items": null,
            "left": null,
            "margin": null,
            "max_height": null,
            "max_width": null,
            "min_height": null,
            "min_width": null,
            "object_fit": null,
            "object_position": null,
            "order": null,
            "overflow": null,
            "overflow_x": null,
            "overflow_y": null,
            "padding": null,
            "right": null,
            "top": null,
            "visibility": null,
            "width": null
          }
        },
        "914cd474415547c5b7af748f30868823": {
          "model_module": "@jupyter-widgets/base",
          "model_module_version": "1.2.0",
          "model_name": "LayoutModel",
          "state": {
            "_model_module": "@jupyter-widgets/base",
            "_model_module_version": "1.2.0",
            "_model_name": "LayoutModel",
            "_view_count": null,
            "_view_module": "@jupyter-widgets/base",
            "_view_module_version": "1.2.0",
            "_view_name": "LayoutView",
            "align_content": null,
            "align_items": null,
            "align_self": null,
            "border": null,
            "bottom": null,
            "display": null,
            "flex": null,
            "flex_flow": null,
            "grid_area": null,
            "grid_auto_columns": null,
            "grid_auto_flow": null,
            "grid_auto_rows": null,
            "grid_column": null,
            "grid_gap": null,
            "grid_row": null,
            "grid_template_areas": null,
            "grid_template_columns": null,
            "grid_template_rows": null,
            "height": null,
            "justify_content": null,
            "justify_items": null,
            "left": null,
            "margin": null,
            "max_height": null,
            "max_width": null,
            "min_height": null,
            "min_width": null,
            "object_fit": null,
            "object_position": null,
            "order": null,
            "overflow": null,
            "overflow_x": null,
            "overflow_y": null,
            "padding": null,
            "right": null,
            "top": null,
            "visibility": null,
            "width": null
          }
        },
        "9963f3c62f6b4701a71fa31c89b2d06a": {
          "model_module": "@jupyter-widgets/controls",
          "model_module_version": "1.5.0",
          "model_name": "HBoxModel",
          "state": {
            "_dom_classes": [],
            "_model_module": "@jupyter-widgets/controls",
            "_model_module_version": "1.5.0",
            "_model_name": "HBoxModel",
            "_view_count": null,
            "_view_module": "@jupyter-widgets/controls",
            "_view_module_version": "1.5.0",
            "_view_name": "HBoxView",
            "box_style": "",
            "children": [
              "IPY_MODEL_32f97607ad1742829080594ff450ee54",
              "IPY_MODEL_0991aba7e5d448e5840f297b4c808bd7",
              "IPY_MODEL_4de137240b9345d9b60166ecd555a1b3"
            ],
            "layout": "IPY_MODEL_4adecd0dde414520b44ec3a22c625f41"
          }
        },
        "a8c03e40beb94a9197d44a2019a277b3": {
          "model_module": "@jupyter-widgets/base",
          "model_module_version": "1.2.0",
          "model_name": "LayoutModel",
          "state": {
            "_model_module": "@jupyter-widgets/base",
            "_model_module_version": "1.2.0",
            "_model_name": "LayoutModel",
            "_view_count": null,
            "_view_module": "@jupyter-widgets/base",
            "_view_module_version": "1.2.0",
            "_view_name": "LayoutView",
            "align_content": null,
            "align_items": null,
            "align_self": null,
            "border": null,
            "bottom": null,
            "display": null,
            "flex": null,
            "flex_flow": null,
            "grid_area": null,
            "grid_auto_columns": null,
            "grid_auto_flow": null,
            "grid_auto_rows": null,
            "grid_column": null,
            "grid_gap": null,
            "grid_row": null,
            "grid_template_areas": null,
            "grid_template_columns": null,
            "grid_template_rows": null,
            "height": null,
            "justify_content": null,
            "justify_items": null,
            "left": null,
            "margin": null,
            "max_height": null,
            "max_width": null,
            "min_height": null,
            "min_width": null,
            "object_fit": null,
            "object_position": null,
            "order": null,
            "overflow": null,
            "overflow_x": null,
            "overflow_y": null,
            "padding": null,
            "right": null,
            "top": null,
            "visibility": null,
            "width": null
          }
        },
        "ab8025f8824842ad85bf90a5d15c7216": {
          "model_module": "@jupyter-widgets/controls",
          "model_module_version": "1.5.0",
          "model_name": "HBoxModel",
          "state": {
            "_dom_classes": [],
            "_model_module": "@jupyter-widgets/controls",
            "_model_module_version": "1.5.0",
            "_model_name": "HBoxModel",
            "_view_count": null,
            "_view_module": "@jupyter-widgets/controls",
            "_view_module_version": "1.5.0",
            "_view_name": "HBoxView",
            "box_style": "",
            "children": [
              "IPY_MODEL_8f67a7bd774641cb8f0da52d04c78ac1",
              "IPY_MODEL_ea34367dab2945cd8b3301a23a7be8b2",
              "IPY_MODEL_4a43b6ab4e624da1887ae8d902cee8ad"
            ],
            "layout": "IPY_MODEL_1a20041a2ad54626a9c5beef48afc2ca"
          }
        },
        "ada8a548509140be90fc1fd850665e1c": {
          "model_module": "@jupyter-widgets/base",
          "model_module_version": "1.2.0",
          "model_name": "LayoutModel",
          "state": {
            "_model_module": "@jupyter-widgets/base",
            "_model_module_version": "1.2.0",
            "_model_name": "LayoutModel",
            "_view_count": null,
            "_view_module": "@jupyter-widgets/base",
            "_view_module_version": "1.2.0",
            "_view_name": "LayoutView",
            "align_content": null,
            "align_items": null,
            "align_self": null,
            "border": null,
            "bottom": null,
            "display": null,
            "flex": null,
            "flex_flow": null,
            "grid_area": null,
            "grid_auto_columns": null,
            "grid_auto_flow": null,
            "grid_auto_rows": null,
            "grid_column": null,
            "grid_gap": null,
            "grid_row": null,
            "grid_template_areas": null,
            "grid_template_columns": null,
            "grid_template_rows": null,
            "height": null,
            "justify_content": null,
            "justify_items": null,
            "left": null,
            "margin": null,
            "max_height": null,
            "max_width": null,
            "min_height": null,
            "min_width": null,
            "object_fit": null,
            "object_position": null,
            "order": null,
            "overflow": null,
            "overflow_x": null,
            "overflow_y": null,
            "padding": null,
            "right": null,
            "top": null,
            "visibility": null,
            "width": "20px"
          }
        },
        "b2547c2d7fef442e83bd601d76fafb97": {
          "model_module": "@jupyter-widgets/controls",
          "model_module_version": "1.5.0",
          "model_name": "ProgressStyleModel",
          "state": {
            "_model_module": "@jupyter-widgets/controls",
            "_model_module_version": "1.5.0",
            "_model_name": "ProgressStyleModel",
            "_view_count": null,
            "_view_module": "@jupyter-widgets/base",
            "_view_module_version": "1.2.0",
            "_view_name": "StyleView",
            "bar_color": null,
            "description_width": ""
          }
        },
        "b3496b1088c049b192cbcab832109278": {
          "model_module": "@jupyter-widgets/controls",
          "model_module_version": "1.5.0",
          "model_name": "DescriptionStyleModel",
          "state": {
            "_model_module": "@jupyter-widgets/controls",
            "_model_module_version": "1.5.0",
            "_model_name": "DescriptionStyleModel",
            "_view_count": null,
            "_view_module": "@jupyter-widgets/base",
            "_view_module_version": "1.2.0",
            "_view_name": "StyleView",
            "description_width": ""
          }
        },
        "b4a19a4b2a644305b9684689c7ea218e": {
          "model_module": "@jupyter-widgets/controls",
          "model_module_version": "1.5.0",
          "model_name": "DescriptionStyleModel",
          "state": {
            "_model_module": "@jupyter-widgets/controls",
            "_model_module_version": "1.5.0",
            "_model_name": "DescriptionStyleModel",
            "_view_count": null,
            "_view_module": "@jupyter-widgets/base",
            "_view_module_version": "1.2.0",
            "_view_name": "StyleView",
            "description_width": ""
          }
        },
        "c1eac1f1687e473b90d18db32d342ad5": {
          "model_module": "@jupyter-widgets/controls",
          "model_module_version": "1.5.0",
          "model_name": "DescriptionStyleModel",
          "state": {
            "_model_module": "@jupyter-widgets/controls",
            "_model_module_version": "1.5.0",
            "_model_name": "DescriptionStyleModel",
            "_view_count": null,
            "_view_module": "@jupyter-widgets/base",
            "_view_module_version": "1.2.0",
            "_view_name": "StyleView",
            "description_width": ""
          }
        },
        "c2719b72fd4e403eb3c7373ce9eba602": {
          "model_module": "@jupyter-widgets/base",
          "model_module_version": "1.2.0",
          "model_name": "LayoutModel",
          "state": {
            "_model_module": "@jupyter-widgets/base",
            "_model_module_version": "1.2.0",
            "_model_name": "LayoutModel",
            "_view_count": null,
            "_view_module": "@jupyter-widgets/base",
            "_view_module_version": "1.2.0",
            "_view_name": "LayoutView",
            "align_content": null,
            "align_items": null,
            "align_self": null,
            "border": null,
            "bottom": null,
            "display": null,
            "flex": null,
            "flex_flow": null,
            "grid_area": null,
            "grid_auto_columns": null,
            "grid_auto_flow": null,
            "grid_auto_rows": null,
            "grid_column": null,
            "grid_gap": null,
            "grid_row": null,
            "grid_template_areas": null,
            "grid_template_columns": null,
            "grid_template_rows": null,
            "height": null,
            "justify_content": null,
            "justify_items": null,
            "left": null,
            "margin": null,
            "max_height": null,
            "max_width": null,
            "min_height": null,
            "min_width": null,
            "object_fit": null,
            "object_position": null,
            "order": null,
            "overflow": null,
            "overflow_x": null,
            "overflow_y": null,
            "padding": null,
            "right": null,
            "top": null,
            "visibility": null,
            "width": null
          }
        },
        "c7432183ce4b4b42aeb552ed5ced8aa9": {
          "model_module": "@jupyter-widgets/controls",
          "model_module_version": "1.5.0",
          "model_name": "HTMLModel",
          "state": {
            "_dom_classes": [],
            "_model_module": "@jupyter-widgets/controls",
            "_model_module_version": "1.5.0",
            "_model_name": "HTMLModel",
            "_view_count": null,
            "_view_module": "@jupyter-widgets/controls",
            "_view_module_version": "1.5.0",
            "_view_name": "HTMLView",
            "description": "",
            "description_tooltip": null,
            "layout": "IPY_MODEL_f752e4a2afbc4994b5c7e0200cccd176",
            "placeholder": "​",
            "style": "IPY_MODEL_c1eac1f1687e473b90d18db32d342ad5",
            "value": "special_tokens_map.json: 100%"
          }
        },
        "c75e2f1325bb466a969712901b92a2a4": {
          "model_module": "@jupyter-widgets/base",
          "model_module_version": "1.2.0",
          "model_name": "LayoutModel",
          "state": {
            "_model_module": "@jupyter-widgets/base",
            "_model_module_version": "1.2.0",
            "_model_name": "LayoutModel",
            "_view_count": null,
            "_view_module": "@jupyter-widgets/base",
            "_view_module_version": "1.2.0",
            "_view_name": "LayoutView",
            "align_content": null,
            "align_items": null,
            "align_self": null,
            "border": null,
            "bottom": null,
            "display": null,
            "flex": null,
            "flex_flow": null,
            "grid_area": null,
            "grid_auto_columns": null,
            "grid_auto_flow": null,
            "grid_auto_rows": null,
            "grid_column": null,
            "grid_gap": null,
            "grid_row": null,
            "grid_template_areas": null,
            "grid_template_columns": null,
            "grid_template_rows": null,
            "height": null,
            "justify_content": null,
            "justify_items": null,
            "left": null,
            "margin": null,
            "max_height": null,
            "max_width": null,
            "min_height": null,
            "min_width": null,
            "object_fit": null,
            "object_position": null,
            "order": null,
            "overflow": null,
            "overflow_x": null,
            "overflow_y": null,
            "padding": null,
            "right": null,
            "top": null,
            "visibility": null,
            "width": "20px"
          }
        },
        "c8cebe6134d44b1cab4515553b199063": {
          "model_module": "@jupyter-widgets/controls",
          "model_module_version": "1.5.0",
          "model_name": "DescriptionStyleModel",
          "state": {
            "_model_module": "@jupyter-widgets/controls",
            "_model_module_version": "1.5.0",
            "_model_name": "DescriptionStyleModel",
            "_view_count": null,
            "_view_module": "@jupyter-widgets/base",
            "_view_module_version": "1.2.0",
            "_view_name": "StyleView",
            "description_width": ""
          }
        },
        "c9cb45711ac14f7c9304be7d7cb524a4": {
          "model_module": "@jupyter-widgets/controls",
          "model_module_version": "1.5.0",
          "model_name": "HTMLModel",
          "state": {
            "_dom_classes": [],
            "_model_module": "@jupyter-widgets/controls",
            "_model_module_version": "1.5.0",
            "_model_name": "HTMLModel",
            "_view_count": null,
            "_view_module": "@jupyter-widgets/controls",
            "_view_module_version": "1.5.0",
            "_view_name": "HTMLView",
            "description": "",
            "description_tooltip": null,
            "layout": "IPY_MODEL_417aa2b24ec942c2bd88fcc71d0c8b44",
            "placeholder": "​",
            "style": "IPY_MODEL_57ab4cbc60614335ad6d925ba3544b21",
            "value": "tokenizer.json: "
          }
        },
        "cb5f148bdf9c4ee1a6224a7e4a91d62d": {
          "model_module": "@jupyter-widgets/controls",
          "model_module_version": "1.5.0",
          "model_name": "HTMLModel",
          "state": {
            "_dom_classes": [],
            "_model_module": "@jupyter-widgets/controls",
            "_model_module_version": "1.5.0",
            "_model_name": "HTMLModel",
            "_view_count": null,
            "_view_module": "@jupyter-widgets/controls",
            "_view_module_version": "1.5.0",
            "_view_name": "HTMLView",
            "description": "",
            "description_tooltip": null,
            "layout": "IPY_MODEL_4d7a8e3eebb64a8e964861c5e7a7a559",
            "placeholder": "​",
            "style": "IPY_MODEL_d3791494fa0840dc9cbdc03f6950177c",
            "value": "generation_config.json: 100%"
          }
        },
        "d06ea0911cf240799c187ab9c83de00c": {
          "model_module": "@jupyter-widgets/controls",
          "model_module_version": "1.5.0",
          "model_name": "FloatProgressModel",
          "state": {
            "_dom_classes": [],
            "_model_module": "@jupyter-widgets/controls",
            "_model_module_version": "1.5.0",
            "_model_name": "FloatProgressModel",
            "_view_count": null,
            "_view_module": "@jupyter-widgets/controls",
            "_view_module_version": "1.5.0",
            "_view_name": "ProgressView",
            "bar_style": "success",
            "description": "",
            "description_tooltip": null,
            "layout": "IPY_MODEL_0e758a3f50744a35896dcec8bcbd6be4",
            "max": 499723,
            "min": 0,
            "orientation": "horizontal",
            "style": "IPY_MODEL_b2547c2d7fef442e83bd601d76fafb97",
            "value": 499723
          }
        },
        "d3791494fa0840dc9cbdc03f6950177c": {
          "model_module": "@jupyter-widgets/controls",
          "model_module_version": "1.5.0",
          "model_name": "DescriptionStyleModel",
          "state": {
            "_model_module": "@jupyter-widgets/controls",
            "_model_module_version": "1.5.0",
            "_model_name": "DescriptionStyleModel",
            "_view_count": null,
            "_view_module": "@jupyter-widgets/base",
            "_view_module_version": "1.2.0",
            "_view_name": "StyleView",
            "description_width": ""
          }
        },
        "d58ac24302304f2d92c609dc13865b54": {
          "model_module": "@jupyter-widgets/controls",
          "model_module_version": "1.5.0",
          "model_name": "DescriptionStyleModel",
          "state": {
            "_model_module": "@jupyter-widgets/controls",
            "_model_module_version": "1.5.0",
            "_model_name": "DescriptionStyleModel",
            "_view_count": null,
            "_view_module": "@jupyter-widgets/base",
            "_view_module_version": "1.2.0",
            "_view_name": "StyleView",
            "description_width": ""
          }
        },
        "dd590266d79e4a789c8a299d933744c3": {
          "model_module": "@jupyter-widgets/base",
          "model_module_version": "1.2.0",
          "model_name": "LayoutModel",
          "state": {
            "_model_module": "@jupyter-widgets/base",
            "_model_module_version": "1.2.0",
            "_model_name": "LayoutModel",
            "_view_count": null,
            "_view_module": "@jupyter-widgets/base",
            "_view_module_version": "1.2.0",
            "_view_name": "LayoutView",
            "align_content": null,
            "align_items": null,
            "align_self": null,
            "border": null,
            "bottom": null,
            "display": null,
            "flex": null,
            "flex_flow": null,
            "grid_area": null,
            "grid_auto_columns": null,
            "grid_auto_flow": null,
            "grid_auto_rows": null,
            "grid_column": null,
            "grid_gap": null,
            "grid_row": null,
            "grid_template_areas": null,
            "grid_template_columns": null,
            "grid_template_rows": null,
            "height": null,
            "justify_content": null,
            "justify_items": null,
            "left": null,
            "margin": null,
            "max_height": null,
            "max_width": null,
            "min_height": null,
            "min_width": null,
            "object_fit": null,
            "object_position": null,
            "order": null,
            "overflow": null,
            "overflow_x": null,
            "overflow_y": null,
            "padding": null,
            "right": null,
            "top": null,
            "visibility": null,
            "width": null
          }
        },
        "ea34367dab2945cd8b3301a23a7be8b2": {
          "model_module": "@jupyter-widgets/controls",
          "model_module_version": "1.5.0",
          "model_name": "FloatProgressModel",
          "state": {
            "_dom_classes": [],
            "_model_module": "@jupyter-widgets/controls",
            "_model_module_version": "1.5.0",
            "_model_name": "FloatProgressModel",
            "_view_count": null,
            "_view_module": "@jupyter-widgets/controls",
            "_view_module_version": "1.5.0",
            "_view_name": "ProgressView",
            "bar_style": "success",
            "description": "",
            "description_tooltip": null,
            "layout": "IPY_MODEL_ada8a548509140be90fc1fd850665e1c",
            "max": 1,
            "min": 0,
            "orientation": "horizontal",
            "style": "IPY_MODEL_0bd94156e196408cb526c3364b1eee28",
            "value": 1
          }
        },
        "ef83cfdae421451d80ba0be7c59701ed": {
          "model_module": "@jupyter-widgets/controls",
          "model_module_version": "1.5.0",
          "model_name": "FloatProgressModel",
          "state": {
            "_dom_classes": [],
            "_model_module": "@jupyter-widgets/controls",
            "_model_module_version": "1.5.0",
            "_model_name": "FloatProgressModel",
            "_view_count": null,
            "_view_module": "@jupyter-widgets/controls",
            "_view_module_version": "1.5.0",
            "_view_name": "ProgressView",
            "bar_style": "success",
            "description": "",
            "description_tooltip": null,
            "layout": "IPY_MODEL_914cd474415547c5b7af748f30868823",
            "max": 124,
            "min": 0,
            "orientation": "horizontal",
            "style": "IPY_MODEL_61cd102861354bb08913c6936156ef8a",
            "value": 124
          }
        },
        "f01446b29e5a42619bec97a6871ee26f": {
          "model_module": "@jupyter-widgets/base",
          "model_module_version": "1.2.0",
          "model_name": "LayoutModel",
          "state": {
            "_model_module": "@jupyter-widgets/base",
            "_model_module_version": "1.2.0",
            "_model_name": "LayoutModel",
            "_view_count": null,
            "_view_module": "@jupyter-widgets/base",
            "_view_module_version": "1.2.0",
            "_view_name": "LayoutView",
            "align_content": null,
            "align_items": null,
            "align_self": null,
            "border": null,
            "bottom": null,
            "display": null,
            "flex": null,
            "flex_flow": null,
            "grid_area": null,
            "grid_auto_columns": null,
            "grid_auto_flow": null,
            "grid_auto_rows": null,
            "grid_column": null,
            "grid_gap": null,
            "grid_row": null,
            "grid_template_areas": null,
            "grid_template_columns": null,
            "grid_template_rows": null,
            "height": null,
            "justify_content": null,
            "justify_items": null,
            "left": null,
            "margin": null,
            "max_height": null,
            "max_width": null,
            "min_height": null,
            "min_width": null,
            "object_fit": null,
            "object_position": null,
            "order": null,
            "overflow": null,
            "overflow_x": null,
            "overflow_y": null,
            "padding": null,
            "right": null,
            "top": null,
            "visibility": null,
            "width": null
          }
        },
        "f0a26c6d85c449d3b9a912cddbc82bb1": {
          "model_module": "@jupyter-widgets/controls",
          "model_module_version": "1.5.0",
          "model_name": "ProgressStyleModel",
          "state": {
            "_model_module": "@jupyter-widgets/controls",
            "_model_module_version": "1.5.0",
            "_model_name": "ProgressStyleModel",
            "_view_count": null,
            "_view_module": "@jupyter-widgets/base",
            "_view_module_version": "1.2.0",
            "_view_name": "StyleView",
            "bar_color": null,
            "description_width": ""
          }
        },
        "f752e4a2afbc4994b5c7e0200cccd176": {
          "model_module": "@jupyter-widgets/base",
          "model_module_version": "1.2.0",
          "model_name": "LayoutModel",
          "state": {
            "_model_module": "@jupyter-widgets/base",
            "_model_module_version": "1.2.0",
            "_model_name": "LayoutModel",
            "_view_count": null,
            "_view_module": "@jupyter-widgets/base",
            "_view_module_version": "1.2.0",
            "_view_name": "LayoutView",
            "align_content": null,
            "align_items": null,
            "align_self": null,
            "border": null,
            "bottom": null,
            "display": null,
            "flex": null,
            "flex_flow": null,
            "grid_area": null,
            "grid_auto_columns": null,
            "grid_auto_flow": null,
            "grid_auto_rows": null,
            "grid_column": null,
            "grid_gap": null,
            "grid_row": null,
            "grid_template_areas": null,
            "grid_template_columns": null,
            "grid_template_rows": null,
            "height": null,
            "justify_content": null,
            "justify_items": null,
            "left": null,
            "margin": null,
            "max_height": null,
            "max_width": null,
            "min_height": null,
            "min_width": null,
            "object_fit": null,
            "object_position": null,
            "order": null,
            "overflow": null,
            "overflow_x": null,
            "overflow_y": null,
            "padding": null,
            "right": null,
            "top": null,
            "visibility": null,
            "width": null
          }
        }
      }
    }
  },
  "nbformat": 4,
  "nbformat_minor": 0
}
